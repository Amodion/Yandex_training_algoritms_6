{
 "cells": [
  {
   "cell_type": "markdown",
   "id": "8bf3898e-4800-469f-9101-f882fd2c2562",
   "metadata": {},
   "source": [
    "## Утилиты для тестов"
   ]
  },
  {
   "cell_type": "code",
   "execution_count": 1,
   "id": "8f1c63a0-4c2f-4f52-8bc7-c2dc2142f794",
   "metadata": {},
   "outputs": [],
   "source": [
    "import random\n",
    "from typing import Callable, List\n",
    "from functools import wraps\n",
    "import time\n",
    "\n",
    "def stress_test(f: Callable, f_slow: Callable, gen: Callable, N: int) -> None:\n",
    "    '''\n",
    "    Функция, реализующая стресс-тестирование функции f. На каждой из N итераций будут вызваны функции f и f_slow и будут сравниватсья их ответы.\n",
    "    Будет выводить время работы функции, если оно больше 0.01 секунды.\n",
    "    params:\n",
    "     - f: тестируемая функция\n",
    "     - f_slow: функия, реализующая тоже, что и функция f. Должна работать верно, но может не оптимально\n",
    "     - gen: функция, генерирующая тестовые данные\n",
    "     - N: колиество итераций, в ходе которых будут сравниваться функции f и f_slow\n",
    "\n",
    "     TODO: Оценивать время работы функций тут. Позволит избавится от декорирования функций. - DONE!\n",
    "    '''\n",
    "    for i in range(N):\n",
    "        args = gen()\n",
    "        ans = timeit(f)(*args)\n",
    "        ans_slow = timeit(f_slow)(*args)\n",
    "        assert ans == ans_slow, f'Wrong!\\nInput: {*args,}\\n{ans=}\\n{ans_slow=}'\n",
    "    print(f'All {N} tests is OK!')\n",
    "\n",
    "def timeit(func: Callable) -> Callable:\n",
    "    '''\n",
    "    Декоратор для оценки времени работы функции func. Выводит время работы, если оно больше 0.01 с.\n",
    "    '''\n",
    "    @wraps(func)\n",
    "    def timeit_wrapper(*args, **kwargs):\n",
    "        start_time = time.perf_counter()\n",
    "        result = func(*args, **kwargs)\n",
    "        end_time = time.perf_counter()\n",
    "        total_time = end_time - start_time\n",
    "        if total_time > 0.01:\n",
    "            print(f'Function {func.__name__}(N={args[0]})Took {total_time:.4f} seconds')\n",
    "        return result\n",
    "    return timeit_wrapper"
   ]
  },
  {
   "cell_type": "markdown",
   "id": "cd4620eb-e6a7-4e3f-a9ad-2e071404c69e",
   "metadata": {
    "jp-MarkdownHeadingCollapsed": true
   },
   "source": [
    "# A. Правильная скобочная последовательность **(OK)**\n",
    "\n",
    "Рассмотрим последовательность, состоящую из круглых, квадратных и фигурных скобок. Программа должна определить, является ли данная скобочная последовательность правильной. Пустая последовательность является правильной. Если A — правильная, то последовательности (A), [A], {A} — правильные. Если A и B — правильные последовательности, то последовательность AB — правильная.\n",
    "\n",
    "## Формат ввода\n",
    "\n",
    "В единственной строке записана скобочная последовательность, содержащая не более 100000 скобок.\n",
    "\n",
    "## Формат вывода\n",
    "\n",
    "Если данная последовательность правильная, то программа должна вывести строку \"yes\", иначе строку \"no\". "
   ]
  },
  {
   "cell_type": "code",
   "execution_count": null,
   "id": "76b974a6-c0df-4945-a41a-c1424f52d065",
   "metadata": {},
   "outputs": [],
   "source": [
    "'''\n",
    "Полное решение, сданное в конест.\n",
    "\n",
    "Вердикт: OK!\n",
    "\n",
    "'''\n",
    "\n",
    "def right_brackets(string):\n",
    "    brackets = {\n",
    "        ')': '(',\n",
    "        ']': '[',\n",
    "        '}': '{'\n",
    "    }\n",
    "    stack = []\n",
    "    for char in string:\n",
    "        if char in brackets.values():\n",
    "            stack.append(char)\n",
    "        else:\n",
    "            if stack and stack[-1] == brackets[char]:\n",
    "                stack.pop()\n",
    "            else:\n",
    "                return 'no'\n",
    "    if stack:\n",
    "        return 'no'\n",
    "    else:\n",
    "        return 'yes'\n",
    "\n",
    "if __name__ == '__main__':\n",
    "    print(right_brackets(input()))"
   ]
  },
  {
   "cell_type": "code",
   "execution_count": 15,
   "id": "426cc063-1b0d-4fd1-8361-6f6812a1ac22",
   "metadata": {},
   "outputs": [],
   "source": [
    "def test_A(f):\n",
    "    '''\n",
    "    Функция тестирует решение задачи A\n",
    "    params:\n",
    "     - f: Тестируемая функция\n",
    "    '''\n",
    "    with open('./tests/tests3A.txt', 'r') as tests:\n",
    "        N = int(tests.readline().strip('\\n'))\n",
    "        for i in range(N):\n",
    "            string = tests.readline().strip('\\n')\n",
    "            ans_true = tests.readline().strip('\\n')\n",
    "            try:\n",
    "                ans = f(string)\n",
    "            except:\n",
    "                f'Error at test {i+1}! Input: {string=}'\n",
    "                raise\n",
    "            assert ans == ans_true, f'Wrong test {i+1}! Input: {string=}.\\nOutput: {ans=}, correct: {ans_true=}'\n",
    "        print(f'All {N} tests is OK!')"
   ]
  },
  {
   "cell_type": "code",
   "execution_count": 16,
   "id": "e72c67d2-ecb8-4bcd-806f-2616f772c235",
   "metadata": {},
   "outputs": [
    {
     "name": "stdout",
     "output_type": "stream",
     "text": [
      "All 6 tests is OK!\n"
     ]
    }
   ],
   "source": [
    "test_A(right_brackets)"
   ]
  },
  {
   "cell_type": "markdown",
   "id": "3b83406e-072f-417f-ab68-20b987a736b1",
   "metadata": {
    "jp-MarkdownHeadingCollapsed": true
   },
   "source": [
    "# B. Великое Лайнландское переселение **(OK)**\n",
    "\n",
    "Лайнландия представляет из себя одномерный мир, являющийся прямой, на котором располагаются $N$ городов, последовательно пронумерованных от 0 до $N$ - 1 . Направление в сторону от первого города к нулевому названо западным, а в обратную — восточным.\n",
    "\n",
    "Когда в Лайнландии неожиданно начался кризис, все были жители мира стали испытывать глубокое смятение. По всей Лайнландии стали ходить слухи, что на востоке живётся лучше, чем на западе.\n",
    "\n",
    "Так и началось Великое Лайнландское переселение. Обитатели мира целыми городами отправились на восток, покинув родные улицы, и двигались до тех пор, пока не приходили в город, в котором средняя цена проживания была меньше, чем в родном.\n",
    "\n",
    "## Формат ввода\n",
    "\n",
    "В первой строке дано одно число $N$ $(2≤N≤10^5)$ — количество городов в Лайнландии. Во второй строке дано $N$ чисел $a_i​$ $(0≤a_i≤10^9)$ — средняя цена проживания в городах с нулевого по ($N$ - 1)-й соответственно.\n",
    "\n",
    "## Формат вывода\n",
    "\n",
    "Для каждого города в порядке с нулевого по ($N$ - 1)-ый выведите номер города, в который переселятся его изначальные жители. Если жители города не остановятся в каком-либо другом городе, отправившись в Восточное Бесконечное Ничто, выведите -1 ."
   ]
  },
  {
   "cell_type": "code",
   "execution_count": null,
   "id": "3ee48351-acfd-43aa-9226-a6c68d574614",
   "metadata": {},
   "outputs": [],
   "source": [
    "'''\n",
    "Полное решение, сданное в конест.\n",
    "\n",
    "Вердикт: OK!\n",
    "\n",
    "'''\n",
    "\n",
    "def great_relocation(n, prices):\n",
    "    ans = [-1] * n\n",
    "    stack = [(prices[0], 0)]\n",
    "    for i in range(1, n):\n",
    "        while stack and prices[i] < stack[-1][0]:\n",
    "            ans[stack[-1][1]] = i\n",
    "            stack.pop()\n",
    "        stack.append((prices[i], i))\n",
    "    return ans\n",
    "\n",
    "if __name__ == '__main__':\n",
    "    n = int(input())\n",
    "    prices = list(map(int, input().split()))\n",
    "    print(*great_relocation(n, prices))"
   ]
  },
  {
   "cell_type": "code",
   "execution_count": 85,
   "id": "a1eb4847-7b71-42e6-8af4-db6351b02af4",
   "metadata": {},
   "outputs": [],
   "source": [
    "def test_B(f):\n",
    "    '''\n",
    "    Функция тестирует решение задачи B\n",
    "    params:\n",
    "     - f: Тестируемая функция\n",
    "    '''\n",
    "    with open('./tests/tests3B.txt', 'r') as tests:\n",
    "        N = int(tests.readline().strip('\\n'))\n",
    "        for i in range(N):\n",
    "            n = int(tests.readline().strip('\\n'))\n",
    "            nums = list(map(int, tests.readline().strip('\\n').split()))\n",
    "            ans_true = list(map(int, tests.readline().strip('\\n').split()))\n",
    "            try:\n",
    "                ans = f(n, nums)\n",
    "            except:\n",
    "                f'Error at test {i+1}! Input: {n=}, {nums=}'\n",
    "                raise\n",
    "            assert ans == ans_true, f'Wrong test {i+1}! Input: {n=}, {nums=}.\\nOutput: {ans=}, correct: {ans_true=}'\n",
    "        print(f'All {N} tests is OK!')"
   ]
  },
  {
   "cell_type": "code",
   "execution_count": 86,
   "id": "d643ae5d-d096-4f72-8d6b-0b477c8a0a6c",
   "metadata": {},
   "outputs": [
    {
     "name": "stdout",
     "output_type": "stream",
     "text": [
      "All 5 tests is OK!\n"
     ]
    }
   ],
   "source": [
    "test_B(great_relocation)"
   ]
  },
  {
   "cell_type": "code",
   "execution_count": 94,
   "id": "1ca151dc-16bc-414e-8f46-e69d6a6f82aa",
   "metadata": {},
   "outputs": [],
   "source": [
    "@timeit\n",
    "def great_relocation_slow(n, prices):\n",
    "    ans = [-1] * n\n",
    "    for i in range(n):\n",
    "        for j in range(i, n):\n",
    "            if prices[i] > prices[j]:\n",
    "                ans[i] = j\n",
    "                break\n",
    "    return ans"
   ]
  },
  {
   "cell_type": "code",
   "execution_count": 88,
   "id": "205dafbc-49d1-43b9-b876-d6fb83c6e93a",
   "metadata": {},
   "outputs": [
    {
     "name": "stdout",
     "output_type": "stream",
     "text": [
      "All 5 tests is OK!\n"
     ]
    }
   ],
   "source": [
    "test_B(great_relocation_slow)"
   ]
  },
  {
   "cell_type": "code",
   "execution_count": 90,
   "id": "bc4bb089-2461-4705-a81e-3c29665b9ed4",
   "metadata": {},
   "outputs": [],
   "source": [
    "import random\n",
    "def generate_B():\n",
    "    n = random.randint(2, 1e5)\n",
    "    prices = [random.randint(0, 1e9) for _ in range(n)]\n",
    "    return n, prices"
   ]
  },
  {
   "cell_type": "code",
   "execution_count": null,
   "id": "25e15d47-c788-4ae7-8d7d-c533286e11a3",
   "metadata": {
    "scrolled": true
   },
   "outputs": [],
   "source": [
    "stress_test(great_relocation, great_relocation_slow, generate_B, 100)"
   ]
  },
  {
   "cell_type": "markdown",
   "id": "46ea3ab3-4184-40bb-a70c-21d24abf709a",
   "metadata": {},
   "source": [
    "# C. Минимум на отрезке **(OK)**\n",
    "\n",
    "Рассмотрим последовательность целых чисел длины $n$. По ней с шагом 1 двигается «окно» длины $k$, то есть сначала в «окне» видны первые $k$ чисел, на следующем шаге в «окне» уже будут находиться $k$ чисел, начиная со второго, и так далее до конца последовательности. Требуется для каждого положения «окна» определить минимум в нём.\n",
    "\n",
    "## Формат ввода\n",
    "\n",
    "В первой строке входных данных содержатся два натуральных числа $n$ и $k$ ($n$ ≤ 150000, $k$ ≤ 10000, $k$ ≤ $n$) – длины последовательности и «окна», соответственно. На следующей строке находятся  $n$ чисел – сама последовательность.\n",
    "\n",
    "## Формат вывода\n",
    "\n",
    "Выходные данные должны содержать $n−k+1$ строк – минимумы для каждого положения «окна»."
   ]
  },
  {
   "cell_type": "code",
   "execution_count": null,
   "id": "1909f5b0-e3ec-425f-8f93-33059a349edf",
   "metadata": {},
   "outputs": [],
   "source": [
    "'''\n",
    "Полное решение, сданное в конест.\n",
    "\n",
    "Вердикт: OK!\n",
    "\n",
    "'''\n",
    "\n",
    "def window_min(n, k, nums):\n",
    "    '''\n",
    "    Вариант функции для сабмита. Выводит ответ поэлементно, без хранения всего ответа\n",
    "    '''\n",
    "    deck = []\n",
    "    start_deck = 0\n",
    "    end_deck = 0\n",
    "    start_window = 0\n",
    "    for i in range(n):\n",
    "        while start_deck < end_deck and deck[-1] > nums[i]:\n",
    "            deck.pop()\n",
    "            end_deck -= 1\n",
    "        deck.append(nums[i])\n",
    "        end_deck += 1\n",
    "        if i - start_window + 1 == k:\n",
    "            print(deck[start_deck])\n",
    "            start_window += 1\n",
    "            if deck[start_deck] == nums[i - k + 1]:\n",
    "                start_deck += 1\n",
    "\n",
    "if __name__ == '__main__':\n",
    "    n, k = map(int, input().split())\n",
    "    nums = list(map(int, input().split()))\n",
    "    window_min(n, k, nums)"
   ]
  },
  {
   "cell_type": "code",
   "execution_count": 165,
   "id": "2c7a08d5-09b2-4bcf-9f9e-4ce7b0269ba7",
   "metadata": {},
   "outputs": [],
   "source": [
    "def window_min(n: int, k: int, nums: List[int]) -> List[int]:\n",
    "    '''\n",
    "    Вариант функции для разработки. Хранит ответ в списке\n",
    "    '''\n",
    "    ans = [0] * (n - k + 1)\n",
    "    deck = []\n",
    "    start_deck = 0\n",
    "    end_deck = 0\n",
    "    start_window = 0\n",
    "    for i in range(n):\n",
    "        while start_deck < end_deck and deck[-1] > nums[i]:\n",
    "            deck.pop()\n",
    "            end_deck -= 1\n",
    "        deck.append(nums[i])\n",
    "        end_deck += 1\n",
    "        if i - start_window + 1 == k:\n",
    "            ans[start_window] = deck[start_deck]\n",
    "            start_window += 1\n",
    "            if deck[start_deck] == nums[i - k + 1]:\n",
    "                start_deck += 1\n",
    "    return ans"
   ]
  },
  {
   "cell_type": "code",
   "execution_count": 171,
   "id": "fa20a6a6-6361-4bcc-b9ae-a6c6d62aec1d",
   "metadata": {},
   "outputs": [],
   "source": [
    "def window_min_slow(n: int, k: int, nums: List[int]) -> List[int]:\n",
    "    ans = [0] * (n - k + 1)\n",
    "    for i in range(n - k + 1):\n",
    "        ans[i] = min(nums[i:i + k])\n",
    "    return ans"
   ]
  },
  {
   "cell_type": "code",
   "execution_count": 172,
   "id": "754bae26-d1a8-4e0d-8e06-094356e8b4d2",
   "metadata": {},
   "outputs": [],
   "source": [
    "def test_C(f: Callable) -> None:\n",
    "    '''\n",
    "    Функция тестирует решение задачи C\n",
    "    params:\n",
    "     - f: Тестируемая функция\n",
    "    '''\n",
    "    with open('./tests/tests3C.txt', 'r') as tests:\n",
    "        N = int(tests.readline().strip('\\n'))\n",
    "        for i in range(N):\n",
    "            n, k = map(int, tests.readline().strip('\\n').split())\n",
    "            nums = list(map(int, tests.readline().strip('\\n').split()))\n",
    "            ans_true = list(map(int, tests.readline().strip('\\n').split()))\n",
    "            try:\n",
    "                ans = f(n, k, nums)\n",
    "            except:\n",
    "                f'Error at test {i+1}! Input: {n=}, {k=}, {nums=}'\n",
    "                raise\n",
    "            assert ans == ans_true, f'Wrong test {i+1}! Input: {n=}, {k=}, {nums=}.\\nOutput: {ans=}, correct: {ans_true=}'\n",
    "        print(f'All {N} tests for function \"{f.__name__}\" is OK!')"
   ]
  },
  {
   "cell_type": "code",
   "execution_count": 173,
   "id": "59cfac68-84c4-4596-b69a-ebb1f062da74",
   "metadata": {},
   "outputs": [
    {
     "name": "stdout",
     "output_type": "stream",
     "text": [
      "All 8 tests for function \"window_min\" is OK!\n"
     ]
    }
   ],
   "source": [
    "test_C(window_min)"
   ]
  },
  {
   "cell_type": "code",
   "execution_count": 174,
   "id": "665c58e5-5416-40f0-b8b5-07ddbd170401",
   "metadata": {},
   "outputs": [
    {
     "name": "stdout",
     "output_type": "stream",
     "text": [
      "All 8 tests for function \"window_min_slow\" is OK!\n"
     ]
    }
   ],
   "source": [
    "test_C(window_min_slow)"
   ]
  },
  {
   "cell_type": "code",
   "execution_count": 168,
   "id": "81453ba7-2491-4f7b-8174-84a455062790",
   "metadata": {},
   "outputs": [],
   "source": [
    "def generate_C():\n",
    "    n = random.randint(1, 1.5e5)\n",
    "    k = random.randint(1, 1e4)\n",
    "    while k > n:\n",
    "        k = random.randint(1, 1e4)\n",
    "    nums = [random.randint(1, 2e1) for _ in range(n)]\n",
    "    return n, k, nums"
   ]
  },
  {
   "cell_type": "code",
   "execution_count": 169,
   "id": "9bcfa9d5-a46e-4473-997e-24b9f57a02bc",
   "metadata": {},
   "outputs": [
    {
     "name": "stdout",
     "output_type": "stream",
     "text": [
      "Function window_min(N=127721)Took 0.0889 seconds\n",
      "Function window_min_slow(N=127721)Took 1.2660 seconds\n",
      "Function window_min(N=49840)Took 0.0330 seconds\n",
      "Function window_min_slow(N=49840)Took 3.8376 seconds\n",
      "Function window_min(N=130682)Took 0.2044 seconds\n",
      "Function window_min_slow(N=130682)Took 23.1371 seconds\n",
      "Function window_min(N=111672)Took 0.0760 seconds\n",
      "Function window_min_slow(N=111672)Took 13.1826 seconds\n",
      "Function window_min(N=127558)Took 0.1040 seconds\n",
      "Function window_min_slow(N=127558)Took 2.0509 seconds\n",
      "Function window_min(N=22053)Took 0.0326 seconds\n",
      "Function window_min_slow(N=22053)Took 3.3164 seconds\n",
      "Function window_min(N=29081)Took 0.0431 seconds\n",
      "Function window_min_slow(N=29081)Took 4.1542 seconds\n",
      "Function window_min(N=107667)Took 0.0740 seconds\n",
      "Function window_min_slow(N=107667)Took 10.1470 seconds\n",
      "Function window_min(N=26385)Took 0.0172 seconds\n",
      "Function window_min_slow(N=26385)Took 1.6281 seconds\n",
      "All 10 tests is OK!\n"
     ]
    }
   ],
   "source": [
    "stress_test(f=window_min, f_slow=window_min_slow, gen=generate_C, N=10)"
   ]
  },
  {
   "cell_type": "markdown",
   "id": "1ad8b674-c82e-471a-bf26-ba78b5d9a33b",
   "metadata": {
    "jp-MarkdownHeadingCollapsed": true
   },
   "source": [
    "# D. Постфиксная запись **(OK)**\n",
    "\n",
    "В постфиксной записи (или обратной польской записи) операция записывается после двух операндов. Например, сумма двух чисел A и B записывается как A B +. Запись B C + D * обозначает привычное нам (B + C) * D, а запись A B C + D * + означает A + (B + C) * D. Достоинство постфиксной записи в том, что она не требует скобок и дополнительных соглашений о приоритете операторов для своего чтения. \n",
    "\n",
    "## Формат ввода\n",
    "В единственной строке записано выражение в постфиксной записи, содержащее цифры и операции +, -, *. Цифры и операции разделяются пробелами. В конце строки может быть произвольное количество пробелов. \n",
    "\n",
    "## Формат вывода\n",
    "Необходимо вывести значение записанного выражения."
   ]
  },
  {
   "cell_type": "code",
   "execution_count": null,
   "id": "e69dc419-f892-4f72-a546-984e456c46b2",
   "metadata": {},
   "outputs": [],
   "source": [
    "'''\n",
    "Полное решение, сданное в конест.\n",
    "\n",
    "Вердикт: OK!\n",
    "'''\n",
    "\n",
    "def postfix_calculating(string):\n",
    "    stack = []\n",
    "    for char in string.strip().split():\n",
    "        if char.isdigit():\n",
    "            stack.append(int(char))\n",
    "        elif char == '+':\n",
    "            b = stack.pop()\n",
    "            a = stack.pop()\n",
    "            stack.append(a + b)\n",
    "        elif char == '-':\n",
    "            b = stack.pop()\n",
    "            a = stack.pop()\n",
    "            stack.append(a - b)\n",
    "        elif char == '*':\n",
    "            b = stack.pop()\n",
    "            a = stack.pop()\n",
    "            stack.append(a * b)\n",
    "    return stack.pop()\n",
    "\n",
    "if __name__ == '__main__':\n",
    "    print(postfix_calculating(input()))"
   ]
  },
  {
   "cell_type": "code",
   "execution_count": 189,
   "id": "c3daca82-a7b7-47b3-942e-17cf48ba1a41",
   "metadata": {},
   "outputs": [],
   "source": [
    "def test_D(f: Callable) -> None:\n",
    "    '''\n",
    "    Функция тестирует решение задачи D\n",
    "    params:\n",
    "     - f: Тестируемая функция\n",
    "    '''\n",
    "    with open('./tests/tests3D.txt', 'r') as tests:\n",
    "        N = int(tests.readline().strip('\\n'))\n",
    "        for i in range(N):\n",
    "            string = tests.readline().strip('\\n')\n",
    "            ans_true = int(tests.readline().strip('\\n'))\n",
    "            try:\n",
    "                ans = f(string)\n",
    "            except:\n",
    "                f'Error at test {i+1}! Input: {string=}'\n",
    "                raise\n",
    "            assert ans == ans_true, f'Wrong test {i+1}! Input: {string=}.\\nOutput: {ans=}, correct: {ans_true=}'\n",
    "        print(f'All {N} tests for function \"{f.__name__}\" is OK!')"
   ]
  },
  {
   "cell_type": "code",
   "execution_count": 190,
   "id": "76162f1c-b44e-4019-a208-b3cb3bd03e0d",
   "metadata": {},
   "outputs": [
    {
     "name": "stdout",
     "output_type": "stream",
     "text": [
      "All 4 tests for function \"postfix_calculating\" is OK!\n"
     ]
    }
   ],
   "source": [
    "test_D(postfix_calculating)"
   ]
  },
  {
   "cell_type": "markdown",
   "id": "c1d052c9-9c36-41ec-96c2-4ac9346f1508",
   "metadata": {
    "jp-MarkdownHeadingCollapsed": true
   },
   "source": [
    "# E. Значение арифметического выражения **(OK)**\n",
    "\n",
    "Задано числовое выражение. Необходимо вычислить его значение или установить, что оно содержит ошибку. В выражении могут встречаться знаки сложения, вычитания, умножения, скобки и пробелы (пробелов внутри чисел быть не должно). Приоритет операций стандартный. Все числа в выражении целые и по модулю не превосходят $2×10^9$. Также гарантируется, что все промежуточные вычисления также не превосходят $2×10^9$.\n",
    "\n",
    "## Формат ввода\n",
    "\n",
    "В первой строке вводится выражение. Его длина не превосходит 100 знаков. После выражения идет переход на новую строчку.\n",
    "\n",
    "## Формат вывода\n",
    "\n",
    "Выведите значение этого выражения или слово ”WRONG”, если значение не определено."
   ]
  },
  {
   "cell_type": "code",
   "execution_count": null,
   "id": "c8e7fa6a-62b8-469f-a870-4c2d3b1c538e",
   "metadata": {},
   "outputs": [],
   "source": [
    "'''\n",
    "Полное решение, сданное в конест.\n",
    "\n",
    "Вердикт: OK!\n",
    "\n",
    "Мнение: полный кошмар. Велосипед из костылей\n",
    "'''\n",
    "\n",
    "def right_brackets(string):\n",
    "    brackets = {\n",
    "        ')': '(',\n",
    "        ']': '[',\n",
    "        '}': '{'\n",
    "    }\n",
    "    stack = []\n",
    "    for char in string:\n",
    "        if char in brackets.values():\n",
    "            stack.append(char)\n",
    "        elif char in brackets:\n",
    "            if stack and stack[-1] == brackets[char]:\n",
    "                stack.pop()\n",
    "            else:\n",
    "                return False\n",
    "    if stack:\n",
    "        return False\n",
    "    else:\n",
    "        return True\n",
    "\n",
    "def check_repeat(s):\n",
    "    prev = s[0]\n",
    "    spaced = False\n",
    "    for i in range(1, len(s)):\n",
    "        if s[i] == ' ':\n",
    "            spaced = True\n",
    "        elif s[i].isdigit() and spaced:\n",
    "            if prev.isdigit() or prev == ')':\n",
    "                return False\n",
    "            spaced = False\n",
    "            prev = s[i]\n",
    "        else:\n",
    "            spaced = False\n",
    "            prev = s[i]\n",
    "    return True\n",
    "\n",
    "def check_opernds(s):\n",
    "    prev = s[0]\n",
    "    for i in range(1, len(s)):\n",
    "        if s[i] in '+-*' and prev in '(+-*':\n",
    "            return False\n",
    "        prev = s[i]\n",
    "    return True\n",
    "\n",
    "def check_other(s):\n",
    "    for i in range(len(s)):\n",
    "        if not s[i] in '+-*() ' and not s[i].isdigit():\n",
    "            return False\n",
    "    return True\n",
    "\n",
    "def postfix_calculating(string):\n",
    "    stack = []\n",
    "    for char in string:\n",
    "        #print(stack)\n",
    "        if char.isdigit():\n",
    "            stack.append(int(char))\n",
    "        elif len(stack) >= 2:\n",
    "            if char == '+':\n",
    "                b = stack.pop()\n",
    "                a = stack.pop()\n",
    "                stack.append(a + b)\n",
    "            elif char == '-':\n",
    "                b = stack.pop()\n",
    "                a = stack.pop()\n",
    "                stack.append(a - b)\n",
    "            elif char == '*':\n",
    "                b = stack.pop()\n",
    "                a = stack.pop()\n",
    "                stack.append(a * b)\n",
    "        else:\n",
    "            return 'WRONG'\n",
    "    if len(stack) > 1:\n",
    "        return 'WRONG'\n",
    "    return stack.pop()\n",
    "\n",
    "def classic_to_postfix(string):\n",
    "    if not check_other(string):\n",
    "        return 'WRONG'\n",
    "    if not string.strip(' \\n'):\n",
    "        return 'WRONG'\n",
    "    if not right_brackets(string):\n",
    "        return 'WRONG'\n",
    "    if not check_repeat(string):\n",
    "        return 'WRONG'\n",
    "    ans = ''\n",
    "    stack = []\n",
    "    priority = {\n",
    "        '+': 1,\n",
    "        '-': 1,\n",
    "        '*': 2\n",
    "    }\n",
    "    if string[0] in ('+', '-'):\n",
    "        string = ''.join('0' + string.strip(' \\n').replace(' ', ''))\n",
    "    else:\n",
    "        string = ''.join(string.strip(' \\n').replace(' ', ''))\n",
    "    new_string = ''\n",
    "    for i in range(len(string)):\n",
    "        if string[i] == '(' and string[i+1] == '-':\n",
    "            new_string += '(0'\n",
    "        else:\n",
    "            new_string += string[i]\n",
    "    if not check_opernds(new_string):\n",
    "        return 'WRONG'\n",
    "    #print(new_string)\n",
    "    for i in range(len(new_string)):\n",
    "        #print(ans)\n",
    "        if new_string[i].isdigit():\n",
    "            ans += new_string[i]\n",
    "        if not new_string[i].isdigit() and new_string[i-1].isdigit():\n",
    "            ans += ' '\n",
    "        if new_string[i] in priority:\n",
    "            while stack and stack[-1] != '(' and priority[stack[-1]] >= priority[new_string[i]]:\n",
    "                ans += stack.pop() + ' '\n",
    "            stack.append(new_string[i])\n",
    "        elif new_string[i] == '(':\n",
    "            stack.append(new_string[i])\n",
    "        elif new_string[i] == ')':\n",
    "            while stack and stack[-1] != '(':\n",
    "                ans += stack.pop() + ' '\n",
    "            stack.pop()\n",
    "    ans += ' '\n",
    "    while stack:\n",
    "        ans += stack.pop() + ' '\n",
    "    #print(ans)\n",
    "    return postfix_calculating(ans.split())\n",
    "\n",
    "if __name__ == '__main__':\n",
    "    print(classic_to_postfix(input()))"
   ]
  },
  {
   "cell_type": "code",
   "execution_count": 166,
   "id": "18b28532-6716-495d-a129-32859676d322",
   "metadata": {},
   "outputs": [
    {
     "name": "stdout",
     "output_type": "stream",
     "text": [
      "WRONG\n"
     ]
    },
    {
     "data": {
      "text/plain": [
       "'     \\n'"
      ]
     },
     "execution_count": 166,
     "metadata": {},
     "output_type": "execute_result"
    }
   ],
   "source": [
    "s = '     \\n'\n",
    "\n",
    "if not s.strip(' \\n'):\n",
    "    print('WRONG')\n",
    "\n",
    "s"
   ]
  },
  {
   "cell_type": "code",
   "execution_count": 145,
   "id": "58208b28-9f06-479b-a23f-6bd9a5a42ef5",
   "metadata": {},
   "outputs": [],
   "source": [
    "def test_E(f: Callable) -> None:\n",
    "    '''\n",
    "    Функция тестирует решение задачи E\n",
    "    params:\n",
    "     - f: Тестируемая функция\n",
    "    '''\n",
    "    with open('./tests/tests3E.txt', 'r') as tests:\n",
    "        N = int(tests.readline().strip('\\n'))\n",
    "        for i in range(N):\n",
    "            string = tests.readline().strip('\\n')\n",
    "            ans_true = tests.readline().strip('\\n')\n",
    "            try:\n",
    "                ans = str(f(string))\n",
    "            except:\n",
    "                f'Error at test {i+1}! Input: {string=}'\n",
    "                raise\n",
    "            assert ans == ans_true, f'Wrong test {i+1}! Input: {string}.\\nOutput: {ans}, correct: {ans_true}'\n",
    "        print(f'All {N} tests for function \"{f.__name__}\" is OK!')"
   ]
  },
  {
   "cell_type": "code",
   "execution_count": 178,
   "id": "fc82a575-defd-4886-98c0-bd84a457ce29",
   "metadata": {},
   "outputs": [
    {
     "name": "stdout",
     "output_type": "stream",
     "text": [
      "All 9 tests for function \"classic_to_postfix\" is OK!\n"
     ]
    }
   ],
   "source": [
    "test_E(classic_to_postfix)"
   ]
  },
  {
   "cell_type": "markdown",
   "id": "d24be97e-937e-4afb-939a-d7daf757013a",
   "metadata": {
    "jp-MarkdownHeadingCollapsed": true
   },
   "source": [
    "# F. Минимальная ПСП **(OK)**\n",
    "\n",
    "Напомним определение правильной скобочной последовательности (ПСП):\n",
    "\n",
    " - пустая строка — правильная скобочная последовательность;\n",
    "\n",
    " - правильная скобочная последовательность, взятая в скобки одного типа — правильная скобочная последовательность;\n",
    "\n",
    " - правильная скобочная последовательность, к которой приписана слева или справа правильная скобочная последовательность — тоже правильная скобочная последовательность.\n",
    "\n",
    "Пусть символы ’[’, ’]’, ’(’ и ’)’ некоторым образом упорядочены. Рассмотрим все ПСП длины nn состоящие из круглых и квадратных скобок и начинающиеся со строки $s$. Среди этих ПСП необходимо найти лексикографически минимальную.\n",
    "\n",
    "Строка $A$ лексикографически меньше строки $B$ (их длина совпадает), если существует такое $i$, что для всех $j<i$ $A_j=B_j$​, а $A_i<B_i$​.\n",
    "\n",
    "Лексикографический порядок скобок задается строкой $w$, состоящей из 4 символов. При этом $w_1<w_2<w_3<w_4$​. Например, если $w=()[]$, то $(<)<[<]$.\n",
    "\n",
    "## Формат ввода\n",
    "\n",
    "В первой строке записано число $n$ $(1≤n≤100000)$.\n",
    "\n",
    "Во второй строке записана строка $w$, состоящая из 4 различных скобок.\n",
    "\n",
    "В третьей строке записана строка $s$, ее длина не превосходит $n$.\n",
    "\n",
    "## Формат вывода\n",
    "\n",
    "Выведите ответ на задачу. Гарантируется что он существует."
   ]
  },
  {
   "cell_type": "code",
   "execution_count": null,
   "id": "77ac62ff-0bb3-4caf-b070-e4378eed5ab1",
   "metadata": {},
   "outputs": [],
   "source": [
    "'''\n",
    "Полное решение, сданное в конест.\n",
    "\n",
    "Вердикт: OK!\n",
    "\n",
    "Мнение: не нравится код, кажется можно было бы лаконичнее\n",
    "'''\n",
    "\n",
    "def min_RBS(n, w, s):\n",
    "    brackets = {\n",
    "        ')': '(',\n",
    "        ']': '['\n",
    "    }\n",
    "    brackets_rev = {\n",
    "        '(': ')',\n",
    "        '[': ']'\n",
    "    }\n",
    "    stack = []\n",
    "    s_rev  = ''\n",
    "    for char in s:\n",
    "        if char in ('(', '['):\n",
    "            stack.append(char)\n",
    "        elif stack and stack[-1] == brackets[char]:\n",
    "            stack.pop()\n",
    "    while n - len(s) > len(stack):\n",
    "        for b in w:\n",
    "            if b in ('(', '['):\n",
    "                stack.append(b)\n",
    "                break\n",
    "            elif stack and b == brackets_rev[stack[-1]]:\n",
    "                stack.pop()\n",
    "                break\n",
    "        s += b\n",
    "    while stack:\n",
    "        s += brackets_rev[stack[-1]]\n",
    "        stack.pop()\n",
    "    return s\n",
    "\n",
    "if __name__ == '__main__':\n",
    "    n = int(input())\n",
    "    w = input()\n",
    "    s = input()\n",
    "    print(min_RBS(n, w, s))"
   ]
  },
  {
   "cell_type": "code",
   "execution_count": 29,
   "id": "d59e8918-bc42-4ac9-bfb0-a3bba754c507",
   "metadata": {},
   "outputs": [],
   "source": [
    "def test_F(f: Callable) -> None:\n",
    "    '''\n",
    "    Функция тестирует решение задачи F\n",
    "    params:\n",
    "     - f: Тестируемая функция\n",
    "    '''\n",
    "    with open('./tests/tests3F.txt', 'r') as tests:\n",
    "        N = int(tests.readline().strip('\\n'))\n",
    "        for i in range(N):\n",
    "            n = int(tests.readline().strip('\\n'))\n",
    "            w = tests.readline().strip('\\n')\n",
    "            s = tests.readline().strip('\\n')\n",
    "            ans_true = tests.readline().strip('\\n')\n",
    "            try:\n",
    "                ans = f(n, w, s)\n",
    "            except:\n",
    "                f'Error at test {i+1}! Input: {n=}, {w=}, {s=}'\n",
    "                raise\n",
    "            assert ans == ans_true, f'Wrong test {i+1}! Input: {n=}, {w=}, {s=}.\\nOutput: {ans}, correct: {ans_true}'\n",
    "        print(f'All {N} tests for function \"{f.__name__}\" is OK!')"
   ]
  },
  {
   "cell_type": "code",
   "execution_count": 30,
   "id": "d3577a86-1bc0-4433-8465-6d09d45a4dec",
   "metadata": {},
   "outputs": [
    {
     "name": "stdout",
     "output_type": "stream",
     "text": [
      "All 4 tests for function \"min_RBS\" is OK!\n"
     ]
    }
   ],
   "source": [
    "test_F(min_RBS)"
   ]
  },
  {
   "cell_type": "markdown",
   "id": "73cc2b7d-15b5-4a8e-95af-7ce2fa54f159",
   "metadata": {
    "jp-MarkdownHeadingCollapsed": true
   },
   "source": [
    "# G. Очередь в ПВЗ* **(OK)**\n",
    "\n",
    "Пункт выдачи работает в течение $n$ минут, пронумерованных от $1$ до $n$. В начале $i$-й минуты в пункт выдачи зайдет $a_i$ клиентов, и все они встанут в конец очереди. За одну минуту в пункте выдачи успевают обслужить не более $b$ клиентов — если в очереди находятся хотя бы $b$ клиентов, то обслуживают $b$ первых из них, а иначе обслуживают всех, кто стоит в очереди. Все клиенты, обслуженные на $i$-й минуте, выйдут из пункта выдачи в конце $i$-й минуты. В конце $n$-й минуты пункт выдачи закроется. Все клиенты, которых не успели обслужить, еще минуту постоят, возмущаясь, и разойдутся. Вычислите суммарное время пребывания всех клиентов в пункте выдачи.\n",
    "\n",
    "Обратите внимание, что если клиент зашел в пункт выдачи в начале $i$-й минуты и вышел в конце $i$-й минуты, то он провел в пункте выдачи одну минуту.\n",
    "\n",
    "## Формат ввода\n",
    "\n",
    "В первой строке даны два целых числа $n$ и $b$ — количество минут, которое работает пункт выдачи, и количество клиентов, которых успевают обслужить за минуту $(1≤n≤100000$, $1≤b≤10^8)$.\n",
    "\n",
    "Во второй строке даны $n$ целых чисел $a_i$​ — количество клиентов, которые придут в пункт выдачи в начале $i$-й минуты $(0≤a_i≤10^8)$.\n",
    "\n",
    "## Формат вывода\n",
    "\n",
    "Выведите одно целое число — суммарное время, которое все клиенты проведут в пункте выдачи."
   ]
  },
  {
   "cell_type": "code",
   "execution_count": null,
   "id": "a8d50dd8-c954-49e5-8ad7-b8eaa8ccf349",
   "metadata": {},
   "outputs": [],
   "source": [
    "'''\n",
    "Полное решение, сданное в конест.\n",
    "\n",
    "Вердикт: OK!\n",
    "\n",
    "'''\n",
    "\n",
    "def queue_in_pup(n, b, nums):\n",
    "    queue_len = 0\n",
    "    ans = 0\n",
    "    for i in range(n):\n",
    "        queue_len += nums[i]\n",
    "        ans += queue_len\n",
    "        queue_len = max(queue_len - b, 0)\n",
    "    ans += queue_len\n",
    "    return ans\n",
    "\n",
    "if __name__ == '__main__':\n",
    "    n, b = map(int, input().split())\n",
    "    nums = list(map(int, input().split()))\n",
    "    print(queue_in_pup(n, b, nums))"
   ]
  },
  {
   "cell_type": "code",
   "execution_count": 6,
   "id": "a45d40a9-67cb-4bd4-bd2c-7ba0e8e08001",
   "metadata": {},
   "outputs": [],
   "source": [
    "def test_G(f: Callable):\n",
    "    '''\n",
    "    Функция тестирует решение задачи G\n",
    "    params:\n",
    "     - f: Тестируемая функция\n",
    "    '''\n",
    "    with open('./tests/tests3G.txt', 'r') as tests:\n",
    "        N = int(tests.readline().strip('\\n'))\n",
    "        for i in range(N):\n",
    "            n, b = map(int, tests.readline().strip('\\n').split())\n",
    "            nums = list(map(int, tests.readline().strip('\\n').split()))\n",
    "            ans_true = int(tests.readline().strip('\\n'))\n",
    "            try:\n",
    "                ans = f(n, b, nums)\n",
    "            except:\n",
    "                f'Error at test {i+1}! Input: {n=}, {b=}, {nums=}'\n",
    "                raise\n",
    "            assert ans == ans_true, f'Wrong test {i+1}! Input: {n=}, {b=}, {nums=}.\\nOutput: {ans=}, correct: {ans_true=}'\n",
    "        print(f'All {N} tests is OK!')"
   ]
  },
  {
   "cell_type": "code",
   "execution_count": 13,
   "id": "c4d47591-6dd6-49ee-9d29-f48899ae241c",
   "metadata": {},
   "outputs": [
    {
     "name": "stdout",
     "output_type": "stream",
     "text": [
      "All 7 tests is OK!\n"
     ]
    }
   ],
   "source": [
    "test_G(queue_in_pup)"
   ]
  },
  {
   "cell_type": "markdown",
   "id": "13d99600-cbf6-45ab-b715-0bb298c8a6fc",
   "metadata": {
    "jp-MarkdownHeadingCollapsed": true
   },
   "source": [
    "# H. Стек с суммой* **(OK)**\n",
    "\n",
    "Стек с суммой должен поддерживать три операции:\n",
    "\n",
    " - Добавить число $x$ в стек\n",
    "\n",
    " - Подсчитать и вывести сумму $k$ чисел находящихся на вершине стека\n",
    "\n",
    " - Удалить число из стека\n",
    "\n",
    "Реализуйте структуру данных, которая поддерживает эти операции.\n",
    "\n",
    "## Формат ввода\n",
    "\n",
    "В первой строке задается количество операций со стеком $n$ $(1≤n≤100000)$.\n",
    "\n",
    "В следующих $n$ строках задаются операции со стеком. Каждая операция имеет один из трех типов:\n",
    "\n",
    "$+x$ — добавить в стек число $x$ $(1≤x≤10^9)$\n",
    "\n",
    "$−$ — удалить элемент с вершины стека (гарантируется, что в этот момент стек не пуст)\n",
    "\n",
    "$?k$ — подсчитать и вывести сумму $k$ элементов на вершине стека (гарантируется, что в стеке не менее $k$ элементов)\n",
    "\n",
    "Изначально стек пуст.\n",
    "\n",
    "## Формат вывода\n",
    "\n",
    "Для каждого запроса \"$−$\" необходимо вывести значение удаляемого из стека элементов, а для каждого запроса \"$?k$\" — сумму $k$ элементов на вершине стека."
   ]
  },
  {
   "cell_type": "code",
   "execution_count": null,
   "id": "fa358ac9-8397-4f4a-b0ea-64916b532de5",
   "metadata": {},
   "outputs": [],
   "source": [
    "'''\n",
    "Полное решение, сданное в конест.\n",
    "\n",
    "Вердикт: OK!\n",
    "\n",
    "'''\n",
    "\n",
    "class Sum_Stack(list):\n",
    "    def __init__(self, iterable=[]):\n",
    "        super().__init__(iterable)\n",
    "        self.prefix_sum = [0]\n",
    "    def append(self, el):\n",
    "        super().append(el)\n",
    "        self.prefix_sum.append(self.prefix_sum[-1] + el)\n",
    "    def pop(self):\n",
    "        self.prefix_sum.pop()\n",
    "        return super().pop()\n",
    "    def get_sum_k(self, k):\n",
    "        return self.prefix_sum[-1] - self.prefix_sum[-k - 1]\n",
    "\n",
    "def operating_with_stack(n):\n",
    "    stack = Sum_Stack()\n",
    "    for i in range(n):\n",
    "        operation = input()\n",
    "        if operation[0] == '+':\n",
    "            num = int(operation[1:])\n",
    "            stack.append(num)\n",
    "        elif operation[0] == '?':\n",
    "            num = int(operation[1:])\n",
    "            print(stack.get_sum_k(num))\n",
    "        else:\n",
    "            print(stack.pop())\n",
    "\n",
    "if __name__ == '__main__':\n",
    "    n = int(input())\n",
    "    operating_with_stack(n)"
   ]
  },
  {
   "cell_type": "markdown",
   "id": "209b11a5-dc3d-4e23-a595-b33366992295",
   "metadata": {
    "jp-MarkdownHeadingCollapsed": true
   },
   "source": [
    "# I. Автоматизированный склад* **(OK)**\n",
    "\n",
    "Склад представляет собой набор одинаковых квадратов, вокруг которых расположены проезды. В углах каждого из квадратов расположены перекрестки, образованные из пересекающихся под прямым углом проездов.\n",
    "\n",
    "По складу движутся роверы и при проезде перекрестков они руководствуются следующими правилами:\n",
    "\n",
    " - На перекрестке неравнозначных дорог ровер, движущийся по второстепенной дороге, должен уступить дорогу роверу, приближающимся по главной.\n",
    "\n",
    " - Если главная дорога на перекрестке меняет направление, роверы, движущиеся по главной дороге, должны руководствоваться между собой правилами проезда перекрестков равнозначных дорог.\n",
    "\n",
    " - На перекрестке равнозначных дорог ровер обязан уступить дорогу транспортным средствам, приближающимся справа.\n",
    "\n",
    "Для тестирования был выбран перекресток, для которого необходимо определить в каком порядке его проедут $N$ роверов, подъезжающих к перекрестку с каждой из четырех сторон в заданные моменты времени. Стороны обозначены номерами 1, 2, 3 и 4, если перечислять по часовой стрелке. Известно, что за единицу времени с каждой из сторон перекрестка приезжает не более одного ровера, а все роверы соблюдают правила и не обгоняют друг-друга. Поскольку это только начало тестирования, все роверы хотят проехать перекресток прямо. Роверы, приближающиеся со сторон $a$ и $b$ находятся на главной дороге, остальные — на второстепенной. На проезд перекрестка ровер тратит одну единицу времени.\n",
    "\n",
    "Таким образом, ровер проезжает перекресток только если:\n",
    "\n",
    " - нет роверов, которые находятся перед этим ровером в очереди к перекрестку,\n",
    "\n",
    " - нет роверов, которым нужно уступить дорогу\n",
    "\n",
    "Если два ровера, стоящие первыми в очереди на проезд перекрестка не должны уступать друг другу дорогу, то они проедут перекресток одновременно.\n",
    "\n",
    "Определите, в каком порядке роверы проедут перекресток.\n",
    "\n",
    "## Формат ввода\n",
    "\n",
    "Первая строка входного файла содержит одно целое число $N$ $(1≤N≤100)$ — количество роверов. Вторая строка содержит числа $a$ и $b$ — стороны перекрестка, составляющие главную дорогу $(1≤a,b≤4, a≠b)$.\n",
    "\n",
    "Каждая из следующих $N$ строк содержит описание ровера, состоящее из двух целых чисел $d_i$​ и $t_i$​ $(1≤d_i≤4,1≤t_i≤100)$ — направление и время приезда $i$-ого ровера.\n",
    "\n",
    "## Формат вывода\n",
    "\n",
    "В выходной файл выведите $N$ целых чисел по одному на строке. $i$-ая строка должна содержать время, в которое $i$-ый ровер проедет перекресток.\n",
    "\n",
    "Роверы занумерованы в порядке появления во входном файле."
   ]
  },
  {
   "cell_type": "code",
   "execution_count": null,
   "id": "f6eae23e-2809-416c-9fb1-00b1d9dcbde1",
   "metadata": {},
   "outputs": [],
   "source": [
    "'''\n",
    "Полное решение, сданное в конест.\n",
    "\n",
    "Вердикт: OK!\n",
    "\n",
    "'''\n",
    "\n",
    "class my_queue(list):\n",
    "    def __init__(self, iterable=[]):\n",
    "        super().__init__(iterable)\n",
    "        self.start = 0\n",
    "    def append(self, el):\n",
    "        super().append(el)\n",
    "    def pop(self):\n",
    "        if self.is_empty():\n",
    "            return None\n",
    "        else:\n",
    "            self.start += 1\n",
    "            return self[self.start - 1]\n",
    "    def first(self):\n",
    "        return self[self.start]\n",
    "    def is_empty(self):\n",
    "        if len(self) == self.start:\n",
    "            return True\n",
    "        else:\n",
    "            return False\n",
    "    def __repr__(self):\n",
    "        return str(self[self.start:])\n",
    "\n",
    "def rovers_queue(n, a, b, rovers):\n",
    "    ans = [0] * n\n",
    "    rovers.sort(key=lambda rover: rover[2], reverse=True)\n",
    "    queues = [my_queue(), my_queue(), my_queue(), my_queue()]\n",
    "    time = rovers[-1][2]\n",
    "    ds = [1, 2, 3, 4]\n",
    "    while rovers and rovers[-1][2] == time:\n",
    "        rover = rovers.pop()\n",
    "        queues[rover[1] - 1].append(rover)\n",
    "    #print(queues)\n",
    "    #print(any([not queue.is_empty() for queue in queues]))\n",
    "    while rovers or any([not queue.is_empty() for queue in queues]):\n",
    "        queues_to_go = []\n",
    "        #print(ans)\n",
    "        for i, queue in enumerate(queues):\n",
    "            if not queue.is_empty():\n",
    "                right_d = ds[i-1]\n",
    "                #print(i+1, right_d, queues[right_d - 1].is_empty())\n",
    "                if i + 1 in (a, b):\n",
    "                    if not ((right_d in (a, b)) and not queues[right_d - 1].is_empty()):\n",
    "                        #print(i+1)\n",
    "                        ans[queue.first()[0]] = time\n",
    "                        queues_to_go.append(i)\n",
    "                else:\n",
    "                    if all([queues[a-1].is_empty(), queues[b-1].is_empty()]) and queues[right_d - 1].is_empty():\n",
    "                        ans[queue.first()[0]] = time\n",
    "                        queues_to_go.append(i)\n",
    "        for i in queues_to_go:\n",
    "            queues[i].pop()\n",
    "        time += 1\n",
    "        while rovers and rovers[-1][2] == time:\n",
    "            rover = rovers.pop()\n",
    "            queues[rover[1] - 1].append(rover)\n",
    "    return ans\n",
    "\n",
    "if __name__ == '__main__':\n",
    "    n = int(input())\n",
    "    a, b = map(int, input().split())\n",
    "    rovers = [0] * n\n",
    "    for i in range(n):\n",
    "        d, t =  map(int, input().split())\n",
    "        rovers[i] = (i, d, t)\n",
    "    result = rovers_queue(n, a, b, rovers)\n",
    "    print(*result, sep='\\n')"
   ]
  },
  {
   "cell_type": "code",
   "execution_count": 193,
   "id": "eaeb17b8-41ea-47c4-8b57-60d559cfb967",
   "metadata": {},
   "outputs": [],
   "source": [
    "def test_I(f: Callable):\n",
    "    '''\n",
    "    Функция тестирует решение задачи I\n",
    "    params:\n",
    "     - f: Тестируемая функция\n",
    "    '''\n",
    "    with open('./tests/tests3I.txt', 'r') as tests:\n",
    "        N = int(tests.readline().strip('\\n'))\n",
    "        for i in range(N):\n",
    "            n = int(tests.readline().strip('\\n'))\n",
    "            rovers = []\n",
    "            #print(i, rovers)\n",
    "            a, b = map(int, tests.readline().strip('\\n').split())\n",
    "            for j in range(n):\n",
    "                #print(i, j)\n",
    "                d, t = map(int, tests.readline().strip('\\n').split())\n",
    "                rovers.append((j, d, t))\n",
    "            #print(i, rovers)\n",
    "            ans_true = list(map(int, tests.readline().strip('\\n').split()))\n",
    "            #print(n, a, b, rovers)\n",
    "            try:\n",
    "                ans = f(n, a, b, rovers)\n",
    "            except:\n",
    "                f'Error at test {i+1}! Input: {n=}, {a=}, {b=}, {rovers=}'\n",
    "                raise\n",
    "            assert ans == ans_true, f'Wrong test {i+1}! Input: {n=}, {a=}, {b=}, {rovers=}.\\nOutput: {ans=}, correct: {ans_true=}'\n",
    "        print(f'All {N} tests is OK!')"
   ]
  },
  {
   "cell_type": "code",
   "execution_count": 195,
   "id": "689a78bd-a1fb-49e3-964b-810a404199d2",
   "metadata": {},
   "outputs": [
    {
     "name": "stdout",
     "output_type": "stream",
     "text": [
      "All 8 tests is OK!\n"
     ]
    }
   ],
   "source": [
    "test_I(rovers_queue)"
   ]
  },
  {
   "cell_type": "markdown",
   "id": "aac52b8a-49d7-4000-93a0-94cf73038166",
   "metadata": {},
   "source": [
    "# J. Кровать из стульев*\n",
    "\n",
    "Вася решил много алгоритмических задач, смог пройти собеседование и устроиться на работу. Ему так нравится на работе, что он решил не тратить время на дорогу домой и другие бессмысленные действия. Для этого ему надо соорудить на работе импровизированную кровать из стульев, чтобы спать прямо на рабочем месте.\n",
    "\n",
    "В офисе есть nn стульев, $i$-й из которых имеет высоту $h_i$​ и ширину $w_i$​. Вася планирует выбрать любой набор офисных стульев $[i_1,i_2,…,i_k]$ и расположить в ряд, чтобы на них можно было лечь. Рост Васи равен $H$, поэтому, чтобы он мог удобно лежать, необходимо, чтобы суммарная ширина выбранных стульев была не меньше $H$, то есть $\\sum_{j=1}^k w_{i_j} \\le H$.\n",
    "\n",
    "Очевидно, что спать на стульях разной высоты неудобно. Назовем неудобностью выбранного набора максимальную разность высот двух соседних стульев в ряду, то есть $max_{j=2}^k |h_{i_j} - h_{i_{j-1}}|$. Если набор состоит из одного стула, его неудобность равна $0$.\n",
    "\n",
    "Помогите Васе выбрать набор стульев так, чтобы на ряду из них можно было лежать, а неудобность этого ряда была как можно меньше.\n",
    "\n",
    "## Формат ввода\n",
    "\n",
    "В первой строке ввода через пробел даны два целых числа $n$ и $H$ — количество стульев и рост Васи $(1≤n≤2⋅10^5; 1≤H≤10^9)$.\n",
    "\n",
    "Во второй строке ввода через пробел перечислены $n$ целых чисел $h_i$​ — высоты стульев $(1≤h_i≤10^9)$. В третьей строке в том же формате перечислены $n$ целых чисел $w_i$, равных ширине стульев $(1≤w_i≤10^9)$.\n",
    "\n",
    "Гарантируется, что $H$ не превосходит суммы всех $w_i$​.\n",
    "\n",
    "## Формат вывода\n",
    "\n",
    "Выведите единственное число — минимальное возможное неудобство среди всех подходящих наборов."
   ]
  },
  {
   "cell_type": "code",
   "execution_count": 254,
   "id": "b62f29ae-7e43-4a83-a569-e384467f8da3",
   "metadata": {},
   "outputs": [],
   "source": [
    "def prefix_sum(n, chairs):\n",
    "    p_sum = [0] * (n + 1)\n",
    "    for i in range(1, n+1):\n",
    "        p_sum[i] = p_sum[i-1] + chairs[i-1][1]\n",
    "    return p_sum\n",
    "\n",
    "def chair_bad(n, h, hs, ws):\n",
    "    chairs = [(height, width) for height, width in zip(hs, ws)]\n",
    "    chairs.sort(key=lambda chair: chair[0])\n",
    "    p_sum_w = prefix_sum(n, chairs)\n",
    "    print(chairs)\n",
    "    print(p_sum_w)\n",
    "    ans = []\n",
    "    deck = []\n",
    "    start_deck = 0\n",
    "    end_deck = 0\n",
    "    start_window = 0\n",
    "    for i in range(n):\n",
    "        while start_deck < end_deck and deck[end_deck - 1] <= chairs[i][0] - chairs[start_window][0]:\n",
    "            deck.pop()\n",
    "            end_deck -= 1\n",
    "        deck.append(chairs[i][0] - chairs[start_window][0])\n",
    "        end_deck += 1\n",
    "        while p_sum_w[i + 1] - p_sum_w[start_window] >= h:\n",
    "            ans.append(deck[start_deck - 1])\n",
    "            print(ans)\n",
    "            start_window += 1\n",
    "            if deck[start_deck - 1] > chairs[i][0] - chairs[start_window - 1][0]:\n",
    "                deck.append(chairs[i][0] - chairs[start_window - 1][0])\n",
    "                end_deck += 1\n",
    "            if deck[start_deck - 1] == chairs[i][0] - chairs[start_window - 1][0]:\n",
    "                start_deck += 1\n",
    "                \n",
    "    return min(ans)"
   ]
  },
  {
   "cell_type": "code",
   "execution_count": 255,
   "id": "9b68d8cb-41f5-4a97-b5d7-b3fd1f63e06d",
   "metadata": {},
   "outputs": [],
   "source": [
    "def test_J(f: Callable) -> None:\n",
    "    '''\n",
    "    Функция тестирует решение задачи J\n",
    "    params:\n",
    "     - f: Тестируемая функция\n",
    "    '''\n",
    "    with open('./tests/tests3J.txt', 'r') as tests:\n",
    "        N = int(tests.readline().strip('\\n'))\n",
    "        for i in range(N):\n",
    "            n, h = map(int, tests.readline().strip('\\n').split())\n",
    "            hs = list(map(int, tests.readline().strip('\\n').split()))\n",
    "            ws = list(map(int, tests.readline().strip('\\n').split()))\n",
    "            ans_true = int(tests.readline().strip('\\n'))\n",
    "            try:\n",
    "                ans = f(n, h, hs, ws)\n",
    "            except:\n",
    "                f'Error at test {i+1}! Input: {n=}, {h=}, {hs=}, {ws=}'\n",
    "                raise\n",
    "            assert ans == ans_true, f'Wrong test {i+1}! Input: {n=}, {h=}, {hs=}, {ws=}.\\nOutput: {ans=}, correct: {ans_true=}'\n",
    "        print(f'All {N} tests is OK!')"
   ]
  },
  {
   "cell_type": "code",
   "execution_count": 256,
   "id": "d7f3fc85-4527-4bee-993f-297ba1767c79",
   "metadata": {},
   "outputs": [
    {
     "name": "stdout",
     "output_type": "stream",
     "text": [
      "[(1, 1), (1, 2), (2, 3), (4, 4)]\n",
      "[0, 1, 3, 6, 10]\n",
      "[3]\n",
      "[3, 3]\n"
     ]
    },
    {
     "ename": "IndexError",
     "evalue": "list index out of range",
     "output_type": "error",
     "traceback": [
      "\u001b[0;31m---------------------------------------------------------------------------\u001b[0m",
      "\u001b[0;31mIndexError\u001b[0m                                Traceback (most recent call last)",
      "Cell \u001b[0;32mIn[256], line 1\u001b[0m\n\u001b[0;32m----> 1\u001b[0m \u001b[43mtest_J\u001b[49m\u001b[43m(\u001b[49m\u001b[43mchair_bad\u001b[49m\u001b[43m)\u001b[49m\n",
      "Cell \u001b[0;32mIn[255], line 15\u001b[0m, in \u001b[0;36mtest_J\u001b[0;34m(f)\u001b[0m\n\u001b[1;32m     13\u001b[0m ans_true \u001b[38;5;241m=\u001b[39m \u001b[38;5;28mint\u001b[39m(tests\u001b[38;5;241m.\u001b[39mreadline()\u001b[38;5;241m.\u001b[39mstrip(\u001b[38;5;124m'\u001b[39m\u001b[38;5;130;01m\\n\u001b[39;00m\u001b[38;5;124m'\u001b[39m))\n\u001b[1;32m     14\u001b[0m \u001b[38;5;28;01mtry\u001b[39;00m:\n\u001b[0;32m---> 15\u001b[0m     ans \u001b[38;5;241m=\u001b[39m \u001b[43mf\u001b[49m\u001b[43m(\u001b[49m\u001b[43mn\u001b[49m\u001b[43m,\u001b[49m\u001b[43m \u001b[49m\u001b[43mh\u001b[49m\u001b[43m,\u001b[49m\u001b[43m \u001b[49m\u001b[43mhs\u001b[49m\u001b[43m,\u001b[49m\u001b[43m \u001b[49m\u001b[43mws\u001b[49m\u001b[43m)\u001b[49m\n\u001b[1;32m     16\u001b[0m \u001b[38;5;28;01mexcept\u001b[39;00m:\n\u001b[1;32m     17\u001b[0m     \u001b[38;5;124mf\u001b[39m\u001b[38;5;124m'\u001b[39m\u001b[38;5;124mError at test \u001b[39m\u001b[38;5;132;01m{\u001b[39;00mi\u001b[38;5;241m+\u001b[39m\u001b[38;5;241m1\u001b[39m\u001b[38;5;132;01m}\u001b[39;00m\u001b[38;5;124m! Input: \u001b[39m\u001b[38;5;132;01m{\u001b[39;00mn\u001b[38;5;132;01m=}\u001b[39;00m\u001b[38;5;124m, \u001b[39m\u001b[38;5;132;01m{\u001b[39;00mh\u001b[38;5;132;01m=}\u001b[39;00m\u001b[38;5;124m, \u001b[39m\u001b[38;5;132;01m{\u001b[39;00mhs\u001b[38;5;132;01m=}\u001b[39;00m\u001b[38;5;124m, \u001b[39m\u001b[38;5;132;01m{\u001b[39;00mws\u001b[38;5;132;01m=}\u001b[39;00m\u001b[38;5;124m'\u001b[39m\n",
      "Cell \u001b[0;32mIn[254], line 25\u001b[0m, in \u001b[0;36mchair_bad\u001b[0;34m(n, h, hs, ws)\u001b[0m\n\u001b[1;32m     23\u001b[0m end_deck \u001b[38;5;241m+\u001b[39m\u001b[38;5;241m=\u001b[39m \u001b[38;5;241m1\u001b[39m\n\u001b[1;32m     24\u001b[0m \u001b[38;5;28;01mwhile\u001b[39;00m p_sum_w[i \u001b[38;5;241m+\u001b[39m \u001b[38;5;241m1\u001b[39m] \u001b[38;5;241m-\u001b[39m p_sum_w[start_window] \u001b[38;5;241m>\u001b[39m\u001b[38;5;241m=\u001b[39m h:\n\u001b[0;32m---> 25\u001b[0m     ans\u001b[38;5;241m.\u001b[39mappend(\u001b[43mdeck\u001b[49m\u001b[43m[\u001b[49m\u001b[43mstart_deck\u001b[49m\u001b[43m \u001b[49m\u001b[38;5;241;43m-\u001b[39;49m\u001b[43m \u001b[49m\u001b[38;5;241;43m1\u001b[39;49m\u001b[43m]\u001b[49m)\n\u001b[1;32m     26\u001b[0m     \u001b[38;5;28mprint\u001b[39m(ans)\n\u001b[1;32m     27\u001b[0m     start_window \u001b[38;5;241m+\u001b[39m\u001b[38;5;241m=\u001b[39m \u001b[38;5;241m1\u001b[39m\n",
      "\u001b[0;31mIndexError\u001b[0m: list index out of range"
     ]
    }
   ],
   "source": [
    "test_J(chair_bad)"
   ]
  },
  {
   "cell_type": "code",
   "execution_count": null,
   "id": "84bf77ff-e319-4e02-95ed-48c478ea6ca2",
   "metadata": {},
   "outputs": [],
   "source": []
  }
 ],
 "metadata": {
  "kernelspec": {
   "display_name": "Python 3 (ipykernel)",
   "language": "python",
   "name": "python3"
  },
  "language_info": {
   "codemirror_mode": {
    "name": "ipython",
    "version": 3
   },
   "file_extension": ".py",
   "mimetype": "text/x-python",
   "name": "python",
   "nbconvert_exporter": "python",
   "pygments_lexer": "ipython3",
   "version": "3.11.6"
  }
 },
 "nbformat": 4,
 "nbformat_minor": 5
}
