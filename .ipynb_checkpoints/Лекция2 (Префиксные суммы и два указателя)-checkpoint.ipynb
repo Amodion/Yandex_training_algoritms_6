{
 "cells": [
  {
   "cell_type": "markdown",
   "id": "93d3252c-5ecc-4391-bc5f-facb5cd26508",
   "metadata": {},
   "source": [
    "# A. Префиксные суммы\n",
    "\n",
    "По данной последовательности $a_1,a_2,…,a_n$​ вычислите последовательность ее префиксных сумм $b_1,b_2,…,b_n$​, где\n",
    "$b_j = \\sum_{i=1}^{j}a_i$\n",
    "\n",
    "## Формат ввода\n",
    "\n",
    "В первой строке дано целое число $n$ $(1≤n≤10^3)$  — количество элементов в последовательности $a$. Во второй строке дано $n$ целых чисел $a_1,a_2,…,a_n$​ $(∣a_i∣≤10^6)$  — элементы последовательности.\n",
    "\n",
    "## Формат вывода\n",
    "\n",
    "Выведите $n$ целых чисел $b_1,b_2,…,b_n​$  — последовательность префиксных сумм для последовательности $a$."
   ]
  },
  {
   "cell_type": "code",
   "execution_count": null,
   "id": "396b7031-6114-4da0-a8d1-a577bb7c3658",
   "metadata": {},
   "outputs": [],
   "source": [
    "'''\n",
    "Полное решение, сданное в конест.\n",
    "\n",
    "Вердикт: OK!\n",
    "\n",
    "'''\n",
    "\n",
    "def prefix_sum(n, a):\n",
    "\tb = [0]\n",
    "\tfor i in range(1, n+1):\n",
    "\t\tp_sum = b[i-1] + a[i-1]\n",
    "\t\tb.append(p_sum)\n",
    "\treturn b[1:]\n",
    "\n",
    "if __name__ == '__main__':\n",
    "\tn = int(input())\n",
    "\ta = list(map(int, input().split()))\n",
    "\tprint(*prefix_sum(n, a))"
   ]
  },
  {
   "cell_type": "code",
   "execution_count": 62,
   "id": "640f2518-96f5-4951-8f09-633a2b8c9086",
   "metadata": {},
   "outputs": [],
   "source": [
    "def test_A(f):\n",
    "    '''\n",
    "    Функция тестирует решение задачи A\n",
    "    params:\n",
    "     - f: Тестируемая функция\n",
    "    '''\n",
    "    with open('./tests/tests2A.txt', 'r') as tests:\n",
    "        N = int(tests.readline().strip('\\n'))\n",
    "        for i in range(N):\n",
    "            n = int(tests.readline().strip('\\n'))\n",
    "            nums = list(map(int, tests.readline().strip('\\n').split()))\n",
    "            ans_true = list(map(int, tests.readline().strip('\\n').split()))\n",
    "            try:\n",
    "                ans = f(n, nums)\n",
    "            except:\n",
    "                print(f'Error at test {i}!\\nInput: {n=}, {nums=}')\n",
    "                raise\n",
    "            assert ans == ans_true, f'Wrong test {i}!\\nInput: {n=}, {nums=}\\nOutput: {ans}, correct: {ans_true}'\n",
    "        print(f'All {N} tests is OK!')"
   ]
  },
  {
   "cell_type": "code",
   "execution_count": 63,
   "id": "93184ced-26fa-421f-acfe-36c61168644a",
   "metadata": {},
   "outputs": [
    {
     "name": "stdout",
     "output_type": "stream",
     "text": [
      "All 1 tests is OK!\n"
     ]
    }
   ],
   "source": [
    "test_A(prefix_sum)"
   ]
  },
  {
   "cell_type": "markdown",
   "id": "b1115f07-0ff1-45c3-8364-4fd6ea0804b4",
   "metadata": {},
   "source": [
    "# B. Сумма номеров\n",
    "\n",
    "Вася очень любит везде искать своё счастливое число <!--l. 47--><span class=\"MathJax_Preview\" style=\"color: inherit; display: none;\"></span><span id=\"MathJax-Element-1-Frame\" class=\"mjx-chtml MathJax_CHTML\" tabindex=\"0\" style=\"font-size: 117%;\"><span id=\"MJXc-Node-1\" class=\"mjx-math\" style=\"text-indent: 0em;\"><span id=\"MJXc-Node-2\" class=\"mjx-mrow\"><span id=\"MJXc-Node-3\" class=\"mjx-mi\"><span class=\"mjx-char MJXc-TeX-math-I\" style=\"padding-top: 0.491em; padding-bottom: 0.308em; padding-right: 0.04em;\">K</span></span></span></span></span><script type=\"math/mml\" id=\"MathJax-Element-1\"><math display=\"inline\" style=\"text-indent: 0em;\" xmlns=\"http://www.w3.org/1998/Math/MathML\"><mi>K</mi></math></script>.\n",
    "      Каждый день он ходит в школу по улице, вдоль которой припарковано <!--l. 47--><span class=\"MathJax_Preview\" style=\"color: inherit; display: none;\"></span><span id=\"MathJax-Element-2-Frame\" class=\"mjx-chtml MathJax_CHTML\" tabindex=\"0\" style=\"font-size: 117%;\"><span id=\"MJXc-Node-4\" class=\"mjx-math\" style=\"text-indent: 0em;\"><span id=\"MJXc-Node-5\" class=\"mjx-mrow\"><span id=\"MJXc-Node-6\" class=\"mjx-mi\"><span class=\"mjx-char MJXc-TeX-math-I\" style=\"padding-top: 0.491em; padding-bottom: 0.308em; padding-right: 0.085em;\">N</span></span></span></span></span><script type=\"math/mml\" id=\"MathJax-Element-2\"><math display=\"inline\" style=\"text-indent: 0em;\" xmlns=\"http://www.w3.org/1998/Math/MathML\"><mi>N</mi></math></script> машин. Он заинтересовался вопросом, сколько существует наборов\n",
    "      машин, стоящих подряд на местах с <!--l. 47--><span class=\"MathJax_Preview\" style=\"color: inherit; display: none;\"></span><span id=\"MathJax-Element-3-Frame\" class=\"mjx-chtml MathJax_CHTML\" tabindex=\"0\" style=\"font-size: 117%;\"><span id=\"MJXc-Node-7\" class=\"mjx-math\" style=\"text-indent: 0em;\"><span id=\"MJXc-Node-8\" class=\"mjx-mrow\"><span id=\"MJXc-Node-9\" class=\"mjx-mi\"><span class=\"mjx-char MJXc-TeX-math-I\" style=\"padding-top: 0.491em; padding-bottom: 0.308em;\">L</span></span></span></span></span><script type=\"math/mml\" id=\"MathJax-Element-3\"><math display=\"inline\" style=\"text-indent: 0em;\" xmlns=\"http://www.w3.org/1998/Math/MathML\"><mi>L</mi></math></script>\n",
    "      до <!--l. 47--><span class=\"MathJax_Preview\" style=\"color: inherit; display: none;\"></span><span id=\"MathJax-Element-4-Frame\" class=\"mjx-chtml MathJax_CHTML\" tabindex=\"0\" style=\"font-size: 117%;\"><span id=\"MJXc-Node-10\" class=\"mjx-math\" style=\"text-indent: 0em;\"><span id=\"MJXc-Node-11\" class=\"mjx-mrow\"><span id=\"MJXc-Node-12\" class=\"mjx-mi\"><span class=\"mjx-char MJXc-TeX-math-I\" style=\"padding-top: 0.491em; padding-bottom: 0.308em;\">R</span></span></span></span></span><script type=\"math/mml\" id=\"MathJax-Element-4\"><math display=\"inline\" style=\"text-indent: 0em;\" xmlns=\"http://www.w3.org/1998/Math/MathML\"><mi>R</mi></math></script>,\n",
    "      что сумма их номеров равна <!--l. 47--><span class=\"MathJax_Preview\" style=\"color: inherit; display: none;\"></span><span id=\"MathJax-Element-5-Frame\" class=\"mjx-chtml MathJax_CHTML\" tabindex=\"0\" style=\"font-size: 117%;\"><span id=\"MJXc-Node-13\" class=\"mjx-math\" style=\"text-indent: 0em;\"><span id=\"MJXc-Node-14\" class=\"mjx-mrow\"><span id=\"MJXc-Node-15\" class=\"mjx-mi\"><span class=\"mjx-char MJXc-TeX-math-I\" style=\"padding-top: 0.491em; padding-bottom: 0.308em; padding-right: 0.04em;\">K</span></span></span></span></span><script type=\"math/mml\" id=\"MathJax-Element-5\"><math display=\"inline\" style=\"text-indent: 0em;\" xmlns=\"http://www.w3.org/1998/Math/MathML\"><mi>K</mi></math></script>.\n",
    "      Помогите Васе узнать ответ на его вопрос. <!--l. 49-->\n",
    "      <p style=\"text-indent: 0em;\">Например, если число <!--l. 49--><span class=\"MathJax_Preview\" style=\"color: inherit; display: none;\"></span><span id=\"MathJax-Element-6-Frame\" class=\"mjx-chtml MathJax_CHTML\" tabindex=\"0\" style=\"font-size: 117%;\"><span id=\"MJXc-Node-16\" class=\"mjx-math\" style=\"text-indent: 0em;\"><span id=\"MJXc-Node-17\" class=\"mjx-mrow\"><span id=\"MJXc-Node-18\" class=\"mjx-mi\"><span class=\"mjx-char MJXc-TeX-math-I\" style=\"padding-top: 0.491em; padding-bottom: 0.308em; padding-right: 0.085em;\">N</span></span><span id=\"MJXc-Node-19\" class=\"mjx-mo MJXc-space3\"><span class=\"mjx-char MJXc-TeX-main-R\" style=\"padding-top: 0.064em; padding-bottom: 0.308em;\">=</span></span><span id=\"MJXc-Node-20\" class=\"mjx-mn MJXc-space3\"><span class=\"mjx-char MJXc-TeX-main-R\" style=\"padding-top: 0.369em; padding-bottom: 0.369em;\">5</span></span></span></span></span><script type=\"math/mml\" id=\"MathJax-Element-6\"><math display=\"inline\" style=\"text-indent: 0em;\" xmlns=\"http://www.w3.org/1998/Math/MathML\"><mi>N</mi>\n",
    "      <mo>=</mo> <mn>5</mn></math></script>, <!--l. 49--><span class=\"MathJax_Preview\" style=\"color: inherit; display: none;\"></span><span id=\"MathJax-Element-7-Frame\" class=\"mjx-chtml MathJax_CHTML\" tabindex=\"0\" style=\"font-size: 117%;\"><span id=\"MJXc-Node-21\" class=\"mjx-math\" style=\"text-indent: 0em;\"><span id=\"MJXc-Node-22\" class=\"mjx-mrow\"><span id=\"MJXc-Node-23\" class=\"mjx-mi\"><span class=\"mjx-char MJXc-TeX-math-I\" style=\"padding-top: 0.491em; padding-bottom: 0.308em; padding-right: 0.04em;\">K</span></span><span id=\"MJXc-Node-24\" class=\"mjx-mo MJXc-space3\"><span class=\"mjx-char MJXc-TeX-main-R\" style=\"padding-top: 0.064em; padding-bottom: 0.308em;\">=</span></span><span id=\"MJXc-Node-25\" class=\"mjx-mn MJXc-space3\"><span class=\"mjx-char MJXc-TeX-main-R\" style=\"padding-top: 0.369em; padding-bottom: 0.369em;\">1</span></span><span id=\"MJXc-Node-26\" class=\"mjx-mn\"><span class=\"mjx-char MJXc-TeX-main-R\" style=\"padding-top: 0.369em; padding-bottom: 0.369em;\">7</span></span></span></span></span><script type=\"math/mml\" id=\"MathJax-Element-7\"><math display=\"inline\" style=\"text-indent: 0em;\" xmlns=\"http://www.w3.org/1998/Math/MathML\"><mi>K</mi>\n",
    "      <mo>=</mo> <mn>1</mn><mn>7</mn></math></script>, а номера машин равны 17, 7, 10, 7, 10, то существует 4 набора машин: <!--l. 51-->\n",
    "      </p><p style=\"text-indent: 0em;\">17 (<!--l. 51--><span class=\"MathJax_Preview\" style=\"color: inherit; display: none;\"></span><span id=\"MathJax-Element-8-Frame\" class=\"mjx-chtml MathJax_CHTML\" tabindex=\"0\" style=\"font-size: 117%;\"><span id=\"MJXc-Node-27\" class=\"mjx-math\" style=\"text-indent: 0em;\"><span id=\"MJXc-Node-28\" class=\"mjx-mrow\"><span id=\"MJXc-Node-29\" class=\"mjx-mi\"><span class=\"mjx-char MJXc-TeX-math-I\" style=\"padding-top: 0.491em; padding-bottom: 0.308em;\">L</span></span><span id=\"MJXc-Node-30\" class=\"mjx-mo MJXc-space3\"><span class=\"mjx-char MJXc-TeX-main-R\" style=\"padding-top: 0.064em; padding-bottom: 0.308em;\">=</span></span><span id=\"MJXc-Node-31\" class=\"mjx-mn MJXc-space3\"><span class=\"mjx-char MJXc-TeX-main-R\" style=\"padding-top: 0.369em; padding-bottom: 0.369em;\">1</span></span><span id=\"MJXc-Node-32\" class=\"mjx-mo\"><span class=\"mjx-char MJXc-TeX-main-R\" style=\"margin-top: -0.18em; padding-bottom: 0.553em;\">,</span></span><span id=\"MJXc-Node-33\" class=\"mjx-mi MJXc-space1\"><span class=\"mjx-char MJXc-TeX-math-I\" style=\"padding-top: 0.491em; padding-bottom: 0.308em;\">R</span></span><span id=\"MJXc-Node-34\" class=\"mjx-mo MJXc-space3\"><span class=\"mjx-char MJXc-TeX-main-R\" style=\"padding-top: 0.064em; padding-bottom: 0.308em;\">=</span></span><span id=\"MJXc-Node-35\" class=\"mjx-mn MJXc-space3\"><span class=\"mjx-char MJXc-TeX-main-R\" style=\"padding-top: 0.369em; padding-bottom: 0.369em;\">1</span></span></span></span></span><script type=\"math/mml\" id=\"MathJax-Element-8\"><math display=\"inline\" style=\"text-indent: 0em;\" xmlns=\"http://www.w3.org/1998/Math/MathML\"><mi>L</mi>\n",
    "      <mo>=</mo> <mn>1</mn><mo>,</mo><mi>R</mi> <mo>=</mo> <mn>1</mn></math></script>), <!--l. 53-->\n",
    "      </p><p style=\"text-indent: 0em;\">7, 10 (<!--l. 53--><span class=\"MathJax_Preview\" style=\"color: inherit; display: none;\"></span><span id=\"MathJax-Element-9-Frame\" class=\"mjx-chtml MathJax_CHTML\" tabindex=\"0\" style=\"font-size: 117%;\"><span id=\"MJXc-Node-36\" class=\"mjx-math\" style=\"text-indent: 0em;\"><span id=\"MJXc-Node-37\" class=\"mjx-mrow\"><span id=\"MJXc-Node-38\" class=\"mjx-mi\"><span class=\"mjx-char MJXc-TeX-math-I\" style=\"padding-top: 0.491em; padding-bottom: 0.308em;\">L</span></span><span id=\"MJXc-Node-39\" class=\"mjx-mo MJXc-space3\"><span class=\"mjx-char MJXc-TeX-main-R\" style=\"padding-top: 0.064em; padding-bottom: 0.308em;\">=</span></span><span id=\"MJXc-Node-40\" class=\"mjx-mn MJXc-space3\"><span class=\"mjx-char MJXc-TeX-main-R\" style=\"padding-top: 0.369em; padding-bottom: 0.369em;\">2</span></span><span id=\"MJXc-Node-41\" class=\"mjx-mo\"><span class=\"mjx-char MJXc-TeX-main-R\" style=\"margin-top: -0.18em; padding-bottom: 0.553em;\">,</span></span><span id=\"MJXc-Node-42\" class=\"mjx-mi MJXc-space1\"><span class=\"mjx-char MJXc-TeX-math-I\" style=\"padding-top: 0.491em; padding-bottom: 0.308em;\">R</span></span><span id=\"MJXc-Node-43\" class=\"mjx-mo MJXc-space3\"><span class=\"mjx-char MJXc-TeX-main-R\" style=\"padding-top: 0.064em; padding-bottom: 0.308em;\">=</span></span><span id=\"MJXc-Node-44\" class=\"mjx-mn MJXc-space3\"><span class=\"mjx-char MJXc-TeX-main-R\" style=\"padding-top: 0.369em; padding-bottom: 0.369em;\">3</span></span></span></span></span><script type=\"math/mml\" id=\"MathJax-Element-9\"><math display=\"inline\" style=\"text-indent: 0em;\" xmlns=\"http://www.w3.org/1998/Math/MathML\"><mi>L</mi>\n",
    "      <mo>=</mo> <mn>2</mn><mo>,</mo><mi>R</mi> <mo>=</mo> <mn>3</mn></math></script>), <!--l. 55-->\n",
    "      </p><p style=\"text-indent: 0em;\">10, 7 (<!--l. 55--><span class=\"MathJax_Preview\" style=\"color: inherit; display: none;\"></span><span id=\"MathJax-Element-10-Frame\" class=\"mjx-chtml MathJax_CHTML\" tabindex=\"0\" style=\"font-size: 117%;\"><span id=\"MJXc-Node-45\" class=\"mjx-math\" style=\"text-indent: 0em;\"><span id=\"MJXc-Node-46\" class=\"mjx-mrow\"><span id=\"MJXc-Node-47\" class=\"mjx-mi\"><span class=\"mjx-char MJXc-TeX-math-I\" style=\"padding-top: 0.491em; padding-bottom: 0.308em;\">L</span></span><span id=\"MJXc-Node-48\" class=\"mjx-mo MJXc-space3\"><span class=\"mjx-char MJXc-TeX-main-R\" style=\"padding-top: 0.064em; padding-bottom: 0.308em;\">=</span></span><span id=\"MJXc-Node-49\" class=\"mjx-mn MJXc-space3\"><span class=\"mjx-char MJXc-TeX-main-R\" style=\"padding-top: 0.369em; padding-bottom: 0.369em;\">3</span></span><span id=\"MJXc-Node-50\" class=\"mjx-mo\"><span class=\"mjx-char MJXc-TeX-main-R\" style=\"margin-top: -0.18em; padding-bottom: 0.553em;\">,</span></span><span id=\"MJXc-Node-51\" class=\"mjx-mi MJXc-space1\"><span class=\"mjx-char MJXc-TeX-math-I\" style=\"padding-top: 0.491em; padding-bottom: 0.308em;\">R</span></span><span id=\"MJXc-Node-52\" class=\"mjx-mo MJXc-space3\"><span class=\"mjx-char MJXc-TeX-main-R\" style=\"padding-top: 0.064em; padding-bottom: 0.308em;\">=</span></span><span id=\"MJXc-Node-53\" class=\"mjx-mn MJXc-space3\"><span class=\"mjx-char MJXc-TeX-main-R\" style=\"padding-top: 0.369em; padding-bottom: 0.369em;\">4</span></span></span></span></span><script type=\"math/mml\" id=\"MathJax-Element-10\"><math display=\"inline\" style=\"text-indent: 0em;\" xmlns=\"http://www.w3.org/1998/Math/MathML\"><mi>L</mi>\n",
    "      <mo>=</mo> <mn>3</mn><mo>,</mo><mi>R</mi> <mo>=</mo> <mn>4</mn></math></script>), <!--l. 57-->\n",
    "      </p><p style=\"text-indent: 0em;\">7, 10 (<!--l. 57--><span class=\"MathJax_Preview\" style=\"color: inherit; display: none;\"></span><span id=\"MathJax-Element-11-Frame\" class=\"mjx-chtml MathJax_CHTML\" tabindex=\"0\" style=\"font-size: 117%;\"><span id=\"MJXc-Node-54\" class=\"mjx-math\" style=\"text-indent: 0em;\"><span id=\"MJXc-Node-55\" class=\"mjx-mrow\"><span id=\"MJXc-Node-56\" class=\"mjx-mi\"><span class=\"mjx-char MJXc-TeX-math-I\" style=\"padding-top: 0.491em; padding-bottom: 0.308em;\">L</span></span><span id=\"MJXc-Node-57\" class=\"mjx-mo MJXc-space3\"><span class=\"mjx-char MJXc-TeX-main-R\" style=\"padding-top: 0.064em; padding-bottom: 0.308em;\">=</span></span><span id=\"MJXc-Node-58\" class=\"mjx-mn MJXc-space3\"><span class=\"mjx-char MJXc-TeX-main-R\" style=\"padding-top: 0.369em; padding-bottom: 0.369em;\">4</span></span><span id=\"MJXc-Node-59\" class=\"mjx-mo\"><span class=\"mjx-char MJXc-TeX-main-R\" style=\"margin-top: -0.18em; padding-bottom: 0.553em;\">,</span></span><span id=\"MJXc-Node-60\" class=\"mjx-mi MJXc-space1\"><span class=\"mjx-char MJXc-TeX-math-I\" style=\"padding-top: 0.491em; padding-bottom: 0.308em;\">R</span></span><span id=\"MJXc-Node-61\" class=\"mjx-mo MJXc-space3\"><span class=\"mjx-char MJXc-TeX-main-R\" style=\"padding-top: 0.064em; padding-bottom: 0.308em;\">=</span></span><span id=\"MJXc-Node-62\" class=\"mjx-mn MJXc-space3\"><span class=\"mjx-char MJXc-TeX-main-R\" style=\"padding-top: 0.369em; padding-bottom: 0.369em;\">5</span></span></span></span></span><script type=\"math/mml\" id=\"MathJax-Element-11\"><math display=\"inline\" style=\"text-indent: 0em;\" xmlns=\"http://www.w3.org/1998/Math/MathML\"><mi>L</mi>\n",
    "      <mo>=</mo> <mn>4</mn><mo>,</mo><mi>R</mi> <mo>=</mo> <mn>5</mn></math></script>) </p>\n",
    "      <p></p>\n",
    "      <p></p>\n",
    "      <p></p>\n",
    "      <p></p>\n",
    "      \n",
    "   </div>\n",
    "   <h2>Формат ввода</h2>\n",
    "   <div class=\"input-specification\"> В первой строке входных данных задаются числа <!--l. 60--><span class=\"MathJax_Preview\" style=\"color: inherit; display: none;\"></span><span id=\"MathJax-Element-12-Frame\" class=\"mjx-chtml MathJax_CHTML\" tabindex=\"0\" style=\"font-size: 117%;\"><span id=\"MJXc-Node-63\" class=\"mjx-math\" style=\"text-indent: 0em;\"><span id=\"MJXc-Node-64\" class=\"mjx-mrow\"><span id=\"MJXc-Node-65\" class=\"mjx-mi\"><span class=\"mjx-char MJXc-TeX-math-I\" style=\"padding-top: 0.491em; padding-bottom: 0.308em; padding-right: 0.085em;\">N</span></span></span></span></span><script type=\"math/mml\" id=\"MathJax-Element-12\"><math display=\"inline\" style=\"text-indent: 0em;\" xmlns=\"http://www.w3.org/1998/Math/MathML\"><mi>N</mi></math></script>\n",
    "      и <!--l. 60--><span class=\"MathJax_Preview\" style=\"color: inherit; display: none;\"></span><span id=\"MathJax-Element-13-Frame\" class=\"mjx-chtml MathJax_CHTML\" tabindex=\"0\" style=\"font-size: 117%;\"><span id=\"MJXc-Node-66\" class=\"mjx-math\" style=\"text-indent: 0em;\"><span id=\"MJXc-Node-67\" class=\"mjx-mrow\"><span id=\"MJXc-Node-68\" class=\"mjx-mi\"><span class=\"mjx-char MJXc-TeX-math-I\" style=\"padding-top: 0.491em; padding-bottom: 0.308em; padding-right: 0.04em;\">K</span></span></span></span></span><script type=\"math/mml\" id=\"MathJax-Element-13\"><math display=\"inline\" style=\"text-indent: 0em;\" xmlns=\"http://www.w3.org/1998/Math/MathML\"><mi>K</mi></math></script>\n",
    "      (<!--l. 60--><span class=\"MathJax_Preview\" style=\"color: inherit; display: none;\"></span><span id=\"MathJax-Element-14-Frame\" class=\"mjx-chtml MathJax_CHTML\" tabindex=\"0\" style=\"font-size: 117%;\"><span id=\"MJXc-Node-69\" class=\"mjx-math\" style=\"text-indent: 0em;\"><span id=\"MJXc-Node-70\" class=\"mjx-mrow\"><span id=\"MJXc-Node-71\" class=\"mjx-mn\"><span class=\"mjx-char MJXc-TeX-main-R\" style=\"padding-top: 0.369em; padding-bottom: 0.369em;\">1</span></span><span id=\"MJXc-Node-72\" class=\"mjx-mo MJXc-space3\"><span class=\"mjx-char MJXc-TeX-main-R\" style=\"padding-top: 0.369em; padding-bottom: 0.491em;\">≤</span></span><span id=\"MJXc-Node-73\" class=\"mjx-mi MJXc-space3\"><span class=\"mjx-char MJXc-TeX-math-I\" style=\"padding-top: 0.491em; padding-bottom: 0.308em; padding-right: 0.085em;\">N</span></span><span id=\"MJXc-Node-74\" class=\"mjx-mo MJXc-space3\"><span class=\"mjx-char MJXc-TeX-main-R\" style=\"padding-top: 0.369em; padding-bottom: 0.491em;\">≤</span></span><span id=\"MJXc-Node-75\" class=\"mjx-mn MJXc-space3\"><span class=\"mjx-char MJXc-TeX-main-R\" style=\"padding-top: 0.369em; padding-bottom: 0.369em;\">1</span></span><span id=\"MJXc-Node-76\" class=\"mjx-mn\"><span class=\"mjx-char MJXc-TeX-main-R\" style=\"padding-top: 0.369em; padding-bottom: 0.369em;\">0</span></span><span id=\"MJXc-Node-77\" class=\"mjx-mn\"><span class=\"mjx-char MJXc-TeX-main-R\" style=\"padding-top: 0.369em; padding-bottom: 0.369em;\">0</span></span><span id=\"MJXc-Node-78\" class=\"mjx-mspace\" style=\"width: 0.3em; height: 0px;\"></span><span id=\"MJXc-Node-79\" class=\"mjx-mn\"><span class=\"mjx-char MJXc-TeX-main-R\" style=\"padding-top: 0.369em; padding-bottom: 0.369em;\">0</span></span><span id=\"MJXc-Node-80\" class=\"mjx-mn\"><span class=\"mjx-char MJXc-TeX-main-R\" style=\"padding-top: 0.369em; padding-bottom: 0.369em;\">0</span></span><span id=\"MJXc-Node-81\" class=\"mjx-mn\"><span class=\"mjx-char MJXc-TeX-main-R\" style=\"padding-top: 0.369em; padding-bottom: 0.369em;\">0</span></span></span></span></span><script type=\"math/mml\" id=\"MathJax-Element-14\"><math display=\"inline\" style=\"text-indent: 0em;\" xmlns=\"http://www.w3.org/1998/Math/MathML\"><mn>1</mn> <mo>≤</mo>\n",
    "      <mi>N</mi> <mo>≤</mo> <mn>1</mn><mn>0</mn><mn>0</mn><mspace width=\"0.3em\"><mn>0</mn><mn>0</mn><mn>0</mn></mspace></math></script>,\n",
    "      <!--l. 60--><span class=\"MathJax_Preview\" style=\"color: inherit; display: none;\"></span><span id=\"MathJax-Element-15-Frame\" class=\"mjx-chtml MathJax_CHTML\" tabindex=\"0\" style=\"font-size: 117%;\"><span id=\"MJXc-Node-82\" class=\"mjx-math\" style=\"text-indent: 0em;\"><span id=\"MJXc-Node-83\" class=\"mjx-mrow\"><span id=\"MJXc-Node-84\" class=\"mjx-mn\"><span class=\"mjx-char MJXc-TeX-main-R\" style=\"padding-top: 0.369em; padding-bottom: 0.369em;\">1</span></span><span id=\"MJXc-Node-85\" class=\"mjx-mo MJXc-space3\"><span class=\"mjx-char MJXc-TeX-main-R\" style=\"padding-top: 0.369em; padding-bottom: 0.491em;\">≤</span></span><span id=\"MJXc-Node-86\" class=\"mjx-mi MJXc-space3\"><span class=\"mjx-char MJXc-TeX-math-I\" style=\"padding-top: 0.491em; padding-bottom: 0.308em; padding-right: 0.04em;\">K</span></span><span id=\"MJXc-Node-87\" class=\"mjx-mo MJXc-space3\"><span class=\"mjx-char MJXc-TeX-main-R\" style=\"padding-top: 0.369em; padding-bottom: 0.491em;\">≤</span></span><span id=\"MJXc-Node-88\" class=\"mjx-mn MJXc-space3\"><span class=\"mjx-char MJXc-TeX-main-R\" style=\"padding-top: 0.369em; padding-bottom: 0.369em;\">1</span></span><span id=\"MJXc-Node-89\" class=\"mjx-msup\"><span class=\"mjx-base\"><span id=\"MJXc-Node-90\" class=\"mjx-mrow\"><span id=\"MJXc-Node-91\" class=\"mjx-mn\"><span class=\"mjx-char MJXc-TeX-main-R\" style=\"padding-top: 0.369em; padding-bottom: 0.369em;\">0</span></span></span></span><span class=\"mjx-sup\" style=\"font-size: 70.7%; vertical-align: 0.591em; padding-left: 0px; padding-right: 0.071em;\"><span id=\"MJXc-Node-92\" class=\"mjx-mrow\" style=\"\"><span id=\"MJXc-Node-93\" class=\"mjx-mn\"><span class=\"mjx-char MJXc-TeX-main-R\" style=\"padding-top: 0.369em; padding-bottom: 0.369em;\">9</span></span></span></span></span></span></span></span><script type=\"math/mml\" id=\"MathJax-Element-15\"><math display=\"inline\" style=\"text-indent: 0em;\" xmlns=\"http://www.w3.org/1998/Math/MathML\"><mn>1</mn> <mo>≤</mo>\n",
    "      <mi>K</mi> <mo>≤</mo> <mn>1</mn><msup><mrow><mn>0</mn></mrow><mrow><mn>9</mn></mrow></msup></math></script>). <!--l. 62-->\n",
    "      <p style=\"text-indent: 0em;\">Во второй строке содержится <!--l. 62--><span class=\"MathJax_Preview\" style=\"color: inherit; display: none;\"></span><span id=\"MathJax-Element-16-Frame\" class=\"mjx-chtml MathJax_CHTML\" tabindex=\"0\" style=\"font-size: 117%;\"><span id=\"MJXc-Node-94\" class=\"mjx-math\" style=\"text-indent: 0em;\"><span id=\"MJXc-Node-95\" class=\"mjx-mrow\"><span id=\"MJXc-Node-96\" class=\"mjx-mi\"><span class=\"mjx-char MJXc-TeX-math-I\" style=\"padding-top: 0.491em; padding-bottom: 0.308em; padding-right: 0.085em;\">N</span></span></span></span></span><script type=\"math/mml\" id=\"MathJax-Element-16\"><math display=\"inline\" style=\"text-indent: 0em;\" xmlns=\"http://www.w3.org/1998/Math/MathML\"><mi>N</mi></math></script>\n",
    "      чисел, задающих номера машин. Номера машин могут принимать значения от <!--l. 62--><span class=\"MathJax_Preview\" style=\"color: inherit; display: none;\"></span><span id=\"MathJax-Element-17-Frame\" class=\"mjx-chtml MathJax_CHTML\" tabindex=\"0\" style=\"font-size: 117%;\"><span id=\"MJXc-Node-97\" class=\"mjx-math\" style=\"text-indent: 0em;\"><span id=\"MJXc-Node-98\" class=\"mjx-mrow\"><span id=\"MJXc-Node-99\" class=\"mjx-mn\"><span class=\"mjx-char MJXc-TeX-main-R\" style=\"padding-top: 0.369em; padding-bottom: 0.369em;\">1</span></span></span></span></span><script type=\"math/mml\" id=\"MathJax-Element-17\"><math display=\"inline\" style=\"text-indent:\n",
    "      0em;\" xmlns=\"http://www.w3.org/1998/Math/MathML\"><mn>1</mn></math></script> до <!--l. 62--><span class=\"MathJax_Preview\" style=\"color: inherit; display: none;\"></span><span id=\"MathJax-Element-18-Frame\" class=\"mjx-chtml MathJax_CHTML\" tabindex=\"0\" style=\"font-size: 117%;\"><span id=\"MJXc-Node-100\" class=\"mjx-math\" style=\"text-indent: 0em;\"><span id=\"MJXc-Node-101\" class=\"mjx-mrow\"><span id=\"MJXc-Node-102\" class=\"mjx-mn\"><span class=\"mjx-char MJXc-TeX-main-R\" style=\"padding-top: 0.369em; padding-bottom: 0.369em;\">9</span></span><span id=\"MJXc-Node-103\" class=\"mjx-mn\"><span class=\"mjx-char MJXc-TeX-main-R\" style=\"padding-top: 0.369em; padding-bottom: 0.369em;\">9</span></span><span id=\"MJXc-Node-104\" class=\"mjx-mn\"><span class=\"mjx-char MJXc-TeX-main-R\" style=\"padding-top: 0.369em; padding-bottom: 0.369em;\">9</span></span></span></span></span><script type=\"math/mml\" id=\"MathJax-Element-18\"><math display=\"inline\" style=\"text-indent:\n",
    "      0em;\" xmlns=\"http://www.w3.org/1998/Math/MathML\"><mn>9</mn><mn>9</mn><mn>9</mn></math></script> включительно. </p>\n",
    "      \n",
    "   </div>\n",
    "   <h2>Формат вывода</h2>\n",
    "   <div class=\"output-specification\"> Необходимо вывести одно число&nbsp;— количество наборов. </div>"
   ]
  },
  {
   "cell_type": "code",
   "execution_count": null,
   "id": "8de14ea2-7664-42aa-8ec7-bf095676d0f1",
   "metadata": {},
   "outputs": [],
   "source": [
    "'''\n",
    "Полное решение, сданное в конест.\n",
    "\n",
    "Вердикт: OK!\n",
    "\n",
    "'''\n",
    "def prefix_sum(n, nums):\n",
    "    p_sum = [0] * (n+1)\n",
    "    for i in range(1, n + 1):\n",
    "        p_sum[i] = p_sum[i-1] + nums[i-1]\n",
    "    return p_sum\n",
    "\n",
    "def find_intervals(n, k, nums):\n",
    "    p_sum = prefix_sum(n, nums)\n",
    "    right = 0\n",
    "    range_count = 0\n",
    "    for left in range(n+1):\n",
    "        while right < n and p_sum[right] - p_sum[left] < k:\n",
    "            right += 1\n",
    "        if p_sum[right] - p_sum[left] == k:\n",
    "            range_count += 1\n",
    "    return range_count\n",
    "    \n",
    "if __name__ == '__main__':\n",
    "\tn, k = map(int, input().split())\n",
    "\tnums = list(map(int, input().split()))\n",
    "\tprint(find_intervals(n, k, nums))"
   ]
  },
  {
   "cell_type": "code",
   "execution_count": 3,
   "id": "5f5fafb9-fc5f-4aee-a53c-a6ad3c55c071",
   "metadata": {},
   "outputs": [],
   "source": [
    "def test_B(f):\n",
    "    '''\n",
    "    Функция тестирует решение задачи B\n",
    "    params:\n",
    "     - f: Тестируемая функция\n",
    "    '''\n",
    "    with open('./tests/tests2B.txt', 'r') as tests:\n",
    "        N = int(tests.readline().strip('\\n'))\n",
    "        for i in range(N):\n",
    "            n, k = map(int, tests.readline().strip('\\n').split())\n",
    "            nums = list(map(int, tests.readline().strip('\\n').split()))\n",
    "            ans_true = int(tests.readline().strip('\\n'))\n",
    "            try:\n",
    "                ans = f(n, k, nums)\n",
    "            except:\n",
    "                print(f'Error at test {i}!\\nInput: {n=}, {k=}, {nums=}')\n",
    "                raise\n",
    "            assert ans == ans_true, f'Wrong test {i}!\\nInput: {n=}, {k=}, {nums=}\\nOutput: {ans}, correct: {ans_true}'\n",
    "        print(f'All {N} tests is OK!')"
   ]
  },
  {
   "cell_type": "code",
   "execution_count": 4,
   "id": "eb15c005-8c03-47fa-860f-25067113c182",
   "metadata": {},
   "outputs": [
    {
     "name": "stdout",
     "output_type": "stream",
     "text": [
      "All 4 tests is OK!\n"
     ]
    }
   ],
   "source": [
    "test_B(find_intervals)"
   ]
  },
  {
   "cell_type": "markdown",
   "id": "24af9ca7-f1a2-4f39-b507-dcf2654c4367",
   "metadata": {},
   "source": [
    "# C. Город Че\n",
    "\n",
    "<div class=\"legend\"><span style=\"\">\n",
    "         <p>В центре города Че есть пешеходная улица - одно из самых популярных мест для прогулок жителей города. По этой улице очень\n",
    "            приятно гулять, ведь вдоль улицы расположено n забавных памятников.\n",
    "         </p></span><p>Девочке Маше из города Че нравятся два мальчика из ее школы, и она никак не может сделать выбор между ними. Чтобы принять\n",
    "         окончательное решение, она решила назначить обоим мальчикам свидание в одно и то же время. Маша хочет выбрать два памятника\n",
    "         на пешеходной улице, около которых мальчики будут ее ждать. При этом она хочет выбрать такие памятники, чтобы мальчики не\n",
    "         увидели друг друга. Маша знает, что из-за тумана мальчики увидят друг друга только в том случае, если они будут на расстоянии\n",
    "         не более r метров.\n",
    "      </p>\n",
    "      <p>Маше заинтересовалась, а сколько способов есть выбрать два различных памятника для организации свиданий.</p>\n",
    "   </div>\n",
    "   <h2>Формат ввода</h2>\n",
    "   <div class=\"input-specification\"><span style=\"\">\n",
    "         <p>В первой строке входного файла находятся два целых числа n и r (<span class=\"tex-math-text\">2 ≤ n ≤ 300000</span>, <span class=\"tex-math-text\">1 ≤ r ≤ 10<sup>9</sup></span>) - количество памятников и максимальное расстояние, на котором мальчики могут увидеть друг друга.\n",
    "         </p></span><p>Во второй строке задано n положительных чисел <span class=\"tex-math-text\">d<sub>1</sub>, …, d<sub>n</sub></span>, где <span class=\"tex-math-text\">d<sub>i</sub></span> - расстояние от i-го памятника до начала улицы. Все памятники находятся на разном расстоянии от начала улицы. Памятники приведены\n",
    "         в порядке возрастания расстояния от начала улицы (<span class=\"tex-math-text\">1 ≤ d<sub>1</sub>, d<sub>2</sub>, …, d<sub>n</sub> ≤ 10<sup>9</sup></span>).\n",
    "      </p>\n",
    "   </div>\n",
    "   <h2>Формат вывода</h2>\n",
    "   <div class=\"output-specification\"><span style=\"\">\n",
    "         <p>Выведите одно число - число способов выбрать два памятника для организации свиданий.</p></span><p></p>\n",
    "   </div>\n"
   ]
  },
  {
   "cell_type": "code",
   "execution_count": null,
   "id": "0ac8a519-6cff-4963-9bd1-4305e34a46e2",
   "metadata": {},
   "outputs": [],
   "source": [
    "'''\n",
    "Полное решение, сданное в конест.\n",
    "\n",
    "Вердикт: OK!\n",
    "\n",
    "'''\n",
    "\n",
    "def find_mem(n, r, mems):\n",
    "    mem_count = 0\n",
    "    right = 1\n",
    "    for left in range(n):\n",
    "        while right < n and mems[right] - mems[left] <= r:\n",
    "            right += 1\n",
    "        mem_count += n - right\n",
    "    return mem_count\n",
    "    \n",
    "if __name__ == '__main__':\n",
    "\tn, r = map(int, input().split())\n",
    "\tmems = list(map(int, input().split()))\n",
    "\tprint(find_mem(n, r, mems))"
   ]
  },
  {
   "cell_type": "code",
   "execution_count": 8,
   "id": "d2d0958e-bb6b-44af-9967-2d29b8f1ff83",
   "metadata": {},
   "outputs": [],
   "source": [
    "def test_C(f):\n",
    "    '''\n",
    "    Функция тестирует решение задачи C\n",
    "    params:\n",
    "     - f: Тестируемая функция\n",
    "    '''\n",
    "    with open('./tests/tests2C.txt', 'r') as tests:\n",
    "        N = int(tests.readline().strip('\\n'))\n",
    "        for i in range(N):\n",
    "            n, k = map(int, tests.readline().strip('\\n').split())\n",
    "            nums = list(map(int, tests.readline().strip('\\n').split()))\n",
    "            ans_true = int(tests.readline().strip('\\n'))\n",
    "            try:\n",
    "                ans = f(n, k, nums)\n",
    "            except:\n",
    "                print(f'Error at test {i}!\\nInput: {n=}, {k=}, {nums=}')\n",
    "                raise\n",
    "            assert ans == ans_true, f'Wrong test {i}!\\nInput: {n=}, {k=}, {nums=}\\nOutput: {ans}, correct: {ans_true}'\n",
    "        print(f'All {N} tests is OK!')"
   ]
  },
  {
   "cell_type": "code",
   "execution_count": 9,
   "id": "465f2310-02f3-4317-8cdd-aa50fc5c7d53",
   "metadata": {},
   "outputs": [
    {
     "name": "stdout",
     "output_type": "stream",
     "text": [
      "All 2 tests is OK!\n"
     ]
    }
   ],
   "source": [
    "test_C(find_mem)"
   ]
  },
  {
   "cell_type": "code",
   "execution_count": null,
   "id": "2c9eaca2-147c-4a17-b691-ae60286d9534",
   "metadata": {},
   "outputs": [],
   "source": []
  },
  {
   "cell_type": "code",
   "execution_count": null,
   "id": "b991d9b4-8214-4d3a-a26f-c18194d1713e",
   "metadata": {},
   "outputs": [],
   "source": []
  },
  {
   "cell_type": "markdown",
   "id": "a778bd53-1286-4953-9b1d-8ad30b2a0ff7",
   "metadata": {},
   "source": [
    "# D. Лучший отдых\n",
    "\n",
    "Васе предстоит выполнить nn дел, для каждого дела он определил направление деятельности, заданное целым числом aiai​.\n",
    "\n",
    "За один день Вася может сделать любое количество дел, но он считает, что лучший вид отдыха — это смена деятельности. Поэтому он не хочет делать похожие дела в один и тот же день. Дела с номерами $a_i$ и $a_j$​ считаются похожими, если разница между их номерами не превышает заданного коэффициента разнообразия $k$, то есть если $∣a_i−a_j∣≤k∣a_i​−a_j​∣≤k$.\n",
    "\n",
    "Также Вася хочет сделать все свои дела как можно быстрее. Например, если Васе необходимо сделать три дела с направлениями деятельности 1, 2 и 4 при $k$=2, то в первый день можно сделать дела 1 и 4, а во второй — 2. Сделать все дела за один день нельзя потому что направления деятельности 1 и 2 похожи.\n",
    "\n",
    "Определите минимальное количество дней, необходимое Васе для выполнения всех его дел.\n",
    "\n",
    "## Формат ввода\n",
    "\n",
    "В первой строке ввода через пробел даны два целых числа $n$ и $k$ — количество дел и коэффициент разнообразия $(1≤n≤2⋅10^5; 0≤k≤10^9)$.\n",
    "\n",
    "Во второй строке через пробел перечислены n чисел $a_i$ — направления дел $(1≤a_i≤10^9)$.\n",
    "## Формат вывода\n",
    "\n",
    "Выведите единственное целое число — минимальное количество дней, необходимое Васе для выполнения всех дел."
   ]
  },
  {
   "cell_type": "code",
   "execution_count": null,
   "id": "e00f4c8d-4f02-4aff-8a15-6121ff153a7e",
   "metadata": {},
   "outputs": [],
   "source": [
    "'''\n",
    "Полное решение, сданное в конест.\n",
    "\n",
    "Вердикт: OK!\n",
    "\n",
    "'''\n",
    "\n",
    "def best_rest_2(n, k, buss):\n",
    "    buss.sort()\n",
    "    max_days = 0\n",
    "    right = 0\n",
    "    for left in range(n):\n",
    "        while right < n and abs(buss[right] - buss[left]) <= k:\n",
    "            max_days = max(max_days, right - left + 1)\n",
    "            right += 1\n",
    "    return max_days\n",
    "\n",
    "if __name__ == '__main__':\n",
    "\tn, k = map(int, input().split())\n",
    "\tbuss = list(map(int, input().split()))\n",
    "\tprint(best_rest_2(n, k, buss))"
   ]
  },
  {
   "cell_type": "code",
   "execution_count": 10,
   "id": "30fcbf16-81cb-4ba2-ba88-fedb27c0f496",
   "metadata": {},
   "outputs": [],
   "source": [
    "def test_D(f):\n",
    "    '''\n",
    "    Функция тестирует решение задачи D\n",
    "    params:\n",
    "     - f: Тестируемая функция\n",
    "    '''\n",
    "    with open('./tests/tests2D.txt', 'r') as tests:\n",
    "        N = int(tests.readline().strip('\\n'))\n",
    "        for i in range(N):\n",
    "            n, k = map(int, tests.readline().strip('\\n').split())\n",
    "            nums = list(map(int, tests.readline().strip('\\n').split()))\n",
    "            ans_true = int(tests.readline().strip('\\n'))\n",
    "            try:\n",
    "                ans = f(n, k, nums)\n",
    "            except:\n",
    "                print(f'Error at test {i+1}!\\nInput: {n=}, {k=}, {nums=}')\n",
    "                raise\n",
    "            assert ans == ans_true, f'Wrong test {i+1}!\\nInput: {n=}, {k=}, {nums=}\\nOutput: {ans}, correct: {ans_true}'\n",
    "        print(f'All {N} tests is OK!')"
   ]
  },
  {
   "cell_type": "code",
   "execution_count": 13,
   "id": "30fd4f24-8d00-41ae-944e-941791d87c78",
   "metadata": {},
   "outputs": [
    {
     "name": "stdout",
     "output_type": "stream",
     "text": [
      "All 10 tests is OK!\n"
     ]
    }
   ],
   "source": [
    "test_D(best_rest_2)"
   ]
  },
  {
   "cell_type": "code",
   "execution_count": null,
   "id": "d57d8dcf-3418-4f0e-a4dc-0f4f0a9b8c29",
   "metadata": {},
   "outputs": [],
   "source": []
  },
  {
   "cell_type": "markdown",
   "id": "5f449010-450d-425b-a249-b67a0d83983d",
   "metadata": {},
   "source": [
    "# E. Удаление медиан\n",
    "\n",
    "Задана последовательность чисел $a_i$​ длиной $n$. Из него необходимо последовательно удалять медианы.\n",
    "\n",
    "Медиана в этой задаче определяются следующим образом:\n",
    "\n",
    "- Если количество чисел в последовательности нечетно, то медиана — число, стоящее точно в середине упорядоченной по возрастанию последовательности.\n",
    "\n",
    "- Если количество чисел в последовательности чётно, то медианой последовательности является:\n",
    "\n",
    "  - Меньшее из двух стоящих посередине чисел упорядоченной по возрастанию последовательности, если два средних различны.\n",
    "\n",
    "  - Любое из двух стоящих посередине чисел упорядоченной по возрастанию последовательности, если два средних равны.\n",
    "\n",
    "Определите в каком порядке будут удалены элементы последовательности.\n",
    "\n",
    "## Формат ввода\n",
    "\n",
    "В первой строке дано одно натуральное число $n$ — количество элементов последовательности $(1≤n≤10^5)$.\n",
    "\n",
    "Во второй строке содержатся nn натуральных чисел $a_i​$ — элементы последовательности $(1≤ai≤10^9)$.\n",
    "\n",
    "## Формат вывода\n",
    "\n",
    "Выведите $n$ чисел — порядок удаления чисел из последовательности."
   ]
  },
  {
   "cell_type": "code",
   "execution_count": null,
   "id": "de963f4a-2b5c-43b3-b56f-5a91c43b329a",
   "metadata": {},
   "outputs": [],
   "source": [
    "'''\n",
    "Полное решение, сданное в конест.\n",
    "\n",
    "Вердикт: OK!\n",
    "\n",
    "'''\n",
    "\n",
    "def del_median(n, nums):\n",
    "    nums.sort()\n",
    "    median = (n - 1) // 2\n",
    "    left = median\n",
    "    right = median\n",
    "    ans = [0] * n\n",
    "    count = 0\n",
    "    while left >= 0 and right < n:\n",
    "        ans[count] = nums[median]\n",
    "        if (n - right - 1) > left:\n",
    "            right += 1\n",
    "            median = right\n",
    "        else:\n",
    "            left -= 1\n",
    "            median = left\n",
    "        count += 1\n",
    "    return ans\n",
    "\n",
    "if __name__ == '__main__':\n",
    "\tn = int(input())\n",
    "\tnums = list(map(int, input().split()))\n",
    "\tprint(*del_median(n, nums))"
   ]
  },
  {
   "cell_type": "code",
   "execution_count": 14,
   "id": "aea30988-9d83-4c48-8f26-bb448e68216c",
   "metadata": {},
   "outputs": [],
   "source": [
    "def test_E(f):\n",
    "    '''\n",
    "    Функция тестирует решение задачи E\n",
    "    params:\n",
    "     - f: Тестируемая функция\n",
    "    '''\n",
    "    with open('./tests/tests2E.txt', 'r') as tests:\n",
    "        N = int(tests.readline().strip('\\n'))\n",
    "        for i in range(N):\n",
    "            n = int(tests.readline().strip('\\n'))\n",
    "            nums = list(map(int, tests.readline().strip('\\n').split()))\n",
    "            ans_true = list(map(int, tests.readline().strip('\\n').split()))\n",
    "            try:\n",
    "                ans = f(n, nums)\n",
    "            except:\n",
    "                print(f'Error at test {i+1}!\\nInput: {n=}, {k=}, {nums=}')\n",
    "                raise\n",
    "            assert ans == ans_true, f'Wrong test {i+1}!\\nInput: {n=}, {k=}, {nums=}\\nOutput: {ans}, correct: {ans_true}'\n",
    "        print(f'All {N} tests is OK!')"
   ]
  },
  {
   "cell_type": "code",
   "execution_count": 16,
   "id": "14b523ec-eebe-4bcd-b174-a84b3e23129d",
   "metadata": {},
   "outputs": [
    {
     "name": "stdout",
     "output_type": "stream",
     "text": [
      "All 4 tests is OK!\n"
     ]
    }
   ],
   "source": [
    "test_E(del_median)"
   ]
  },
  {
   "cell_type": "code",
   "execution_count": null,
   "id": "e32dc275-3eca-4a06-a560-4c956f43458c",
   "metadata": {},
   "outputs": [],
   "source": []
  },
  {
   "cell_type": "code",
   "execution_count": null,
   "id": "ed5ee40b-a6dc-42a5-888a-54059cccf06e",
   "metadata": {},
   "outputs": [],
   "source": []
  },
  {
   "cell_type": "markdown",
   "id": "93d94d52-529a-4863-aba6-90de8a490cd4",
   "metadata": {},
   "source": [
    "# F. Сумма тройных произведений\n",
    "\n",
    "Задана последовательность из $n$ чисел $a_i$​. Найдите число\n",
    "\n",
    "$\\sum_{1≤i<j<k≤n} a_i⋅a_j⋅a_k$\n",
    "\n",
    "Поскольку число может получиться слишком большим, требуется посчитать его по модулю 1000000007.\n",
    "\n",
    "## Формат ввода\n",
    "\n",
    "В первой строке дано одно целое число $n$ $(3≤n≤10^6)$.\n",
    "\n",
    "Во второй строке даны nn целых чисел $a_i$​ $(0≤a_i≤10^6)$\n",
    "\n",
    "## Формат вывода\n",
    "\n",
    "Выведите требуемое число по модулю 1000000007."
   ]
  },
  {
   "cell_type": "code",
   "execution_count": null,
   "id": "6a233d64-32ce-4756-8e20-0f3f1c1ffd2e",
   "metadata": {},
   "outputs": [],
   "source": [
    "'''\n",
    "Полное решение, сданное в конест.\n",
    "\n",
    "Вердикт: OK!\n",
    "\n",
    "'''\n",
    "\n",
    "def prefix_sums(n, nums):\n",
    "    p_sums = [0] * (n + 1)\n",
    "    for i in range(1, n+1):\n",
    "        p_sums[i] = nums[i-1] + p_sums[i-1]\n",
    "    return p_sums\n",
    "\n",
    "def prefix_sum_prod(n, p_sums, nums):\n",
    "    p_prod_sums = [0] * n\n",
    "    for i in range(n):\n",
    "        p_prod_sums[i] = nums[i] * (p_sums[n] - p_sums[i + 1])\n",
    "    return prefix_sums(n, p_prod_sums)\n",
    "\n",
    "def tripple_sum(n, nums):\n",
    "    p_sums = prefix_sums(n, nums)\n",
    "    p_prod_sums = prefix_sum_prod(n, p_sums, nums)\n",
    "    ans = 0\n",
    "    for i in range(n):\n",
    "        ans += nums[i] * (p_prod_sums[n] - p_prod_sums[i + 1])\n",
    "    return ans % 1000000007\n",
    "    \n",
    "if __name__ == '__main__':\n",
    "\tn = int(input())\n",
    "\tnums = list(map(int, input().split()))\n",
    "\tprint(tripple_sum(n, nums))"
   ]
  },
  {
   "cell_type": "code",
   "execution_count": 19,
   "id": "4e861a89-5a2b-423e-b969-b9c37bfd735e",
   "metadata": {},
   "outputs": [],
   "source": [
    "def test_F(f):\n",
    "    '''\n",
    "    Функция тестирует решение задачи F\n",
    "    params:\n",
    "     - f: Тестируемая функция\n",
    "    '''\n",
    "    with open('./tests/tests2F.txt', 'r') as tests:\n",
    "        N = int(tests.readline().strip('\\n'))\n",
    "        for i in range(N):\n",
    "            n = int(tests.readline().strip('\\n'))\n",
    "            nums = list(map(int, tests.readline().strip('\\n').split()))\n",
    "            ans_true = int(tests.readline().strip('\\n'))\n",
    "            try:\n",
    "                ans = f(n, nums)\n",
    "            except:\n",
    "                print(f'Error at test {i+1}!\\nInput: {n=}, {nums=}')\n",
    "                raise\n",
    "            assert ans == ans_true, f'Wrong test {i+1}!\\nInput: {n=}, {nums=}\\nOutput: {ans}, correct: {ans_true}'\n",
    "        print(f'All {N} tests is OK!')"
   ]
  },
  {
   "cell_type": "code",
   "execution_count": 20,
   "id": "1baf2898-8545-4ff0-b10e-6eb1a9069ff8",
   "metadata": {},
   "outputs": [
    {
     "name": "stdout",
     "output_type": "stream",
     "text": [
      "All 2 tests is OK!\n"
     ]
    }
   ],
   "source": [
    "test_F(tripple_sum)"
   ]
  },
  {
   "cell_type": "code",
   "execution_count": null,
   "id": "661fd319-0b78-4136-9c22-139332f41bcf",
   "metadata": {},
   "outputs": [],
   "source": []
  },
  {
   "cell_type": "code",
   "execution_count": null,
   "id": "b8c4cc97-d8f5-4508-b72c-95ec91473475",
   "metadata": {},
   "outputs": [],
   "source": []
  },
  {
   "cell_type": "markdown",
   "id": "b733434d-152a-46a9-aeec-971c81de4de3",
   "metadata": {},
   "source": [
    "# G. Цензурное произведение\n",
    "\n",
    "Комитет по цензуре определил грубость строки $t_1t_2…t_k$ как количество пар индексов $(i,j)$, где $1≤i<j≤k$, при этом $t_i$ «a», а $t_j$ «b». То есть, грубость строки — это количество способов вычеркнуть из нее буквы так, чтобы осталась строка, состоящая только из двух букв «a» и «b» (именно в этом порядке).\n",
    "\n",
    "Кроме того, по решению того же комитета, все литературные произведения должны представлять собой подстроку определенной комитетом строки $s$, состоящую из $n$ букв.\n",
    "\n",
    "Вася хочет написать литературное произведение, грубость которого не превосходит $c$. Для этого он должен выбрать некоторую непустую подстроку строки $s$, начиная с индекса $l$ и заканчивая индексом $r$, т.е. состоящую из символов $s_ls_{l+1}…s_r$​.\n",
    "\n",
    "Чем длиннее произведение — тем больше оплата, поэтому Вася хочет, чтобы его произведение было как можно длиннее. Определите длину самого длинного произведения, которое может написать Вася.\n",
    "\n",
    "## Формат ввода\n",
    "\n",
    "Первая строка входных данных содержит два целых числа $n$ и $c$ — длину строки $s$ и максимальную разрешенную грубость литературного произведения $(1≤n≤10^6, 0≤c≤10^{18})$.\n",
    "\n",
    "Вторая строка содержит строку $s$. Строка состоит из $n$ строчных английских букв\n",
    "\n",
    "## Формат вывода\n",
    "\n",
    "Выведите ответ на задачу."
   ]
  },
  {
   "cell_type": "code",
   "execution_count": null,
   "id": "45250451-7788-400d-8305-9bff0472d3ec",
   "metadata": {},
   "outputs": [],
   "source": [
    "'''\n",
    "Полное решение, сданное в конест.\n",
    "\n",
    "Вердикт: OK!\n",
    "\n",
    "'''\n",
    "\n",
    "\n",
    "def product(n, c, string):\n",
    "    d = {'a': 0, 'b':0}\n",
    "    rudeness = 0\n",
    "    p_rudeness = [0] * n\n",
    "    l, r = 0, 0\n",
    "    best_l, best_r = 0, 0\n",
    "    while r < n:\n",
    "        if string[r] == 'a':\n",
    "            d['a'] += 1\n",
    "        elif string[r] == 'b':\n",
    "            d['b'] += 1\n",
    "            rudeness += d['a']\n",
    "        while l < n and rudeness > c:\n",
    "            if string[l] == 'a':\n",
    "                rudeness -= d['b']\n",
    "                d['a'] -= 1\n",
    "            elif string[l] == 'b':\n",
    "                d['b'] -= 1\n",
    "            l += 1\n",
    "        if r - l > best_r - best_l:\n",
    "            best_l = l\n",
    "            best_r = r\n",
    "        r += 1\n",
    "    return best_r - best_l + 1\n",
    "    \n",
    "if __name__ == '__main__':\n",
    "\tn, c = map(int, input().split())\n",
    "\tstring = input().strip('\\n')\n",
    "\tprint(product(n, c, string))"
   ]
  },
  {
   "cell_type": "code",
   "execution_count": 24,
   "id": "355c8fc3-48dd-4f23-91d7-aab8dcc93b09",
   "metadata": {},
   "outputs": [],
   "source": [
    "def test_G(f):\n",
    "    '''\n",
    "    Функция тестирует решение задачи G\n",
    "    params:\n",
    "     - f: Тестируемая функция\n",
    "    '''\n",
    "    with open('./tests/tests2G.txt', 'r') as tests:\n",
    "        N = int(tests.readline().strip('\\n'))\n",
    "        for i in range(N):\n",
    "            n, c = map(int, tests.readline().strip('\\n').split())\n",
    "            string = tests.readline().strip('\\n')\n",
    "            ans_true = int(tests.readline().strip('\\n'))\n",
    "            try:\n",
    "                ans = f(n, c, string)\n",
    "            except:\n",
    "                print(f'Error at test {i+1}!\\nInput: {n=}, {c=}, {string=}')\n",
    "                raise\n",
    "            assert ans == ans_true, f'Wrong test {i+1}!\\nInput: {n=}, {c=}, {string=}\\nOutput: {ans}, correct: {ans_true}'\n",
    "        print(f'All {N} tests is OK!')"
   ]
  },
  {
   "cell_type": "code",
   "execution_count": 26,
   "id": "28e653ac-2939-4b5f-971a-25143b318683",
   "metadata": {},
   "outputs": [
    {
     "name": "stdout",
     "output_type": "stream",
     "text": [
      "All 6 tests is OK!\n"
     ]
    }
   ],
   "source": [
    "test_G(product)"
   ]
  },
  {
   "cell_type": "code",
   "execution_count": null,
   "id": "7c94cb03-b743-47ed-96b6-37b36d38fe37",
   "metadata": {},
   "outputs": [],
   "source": []
  },
  {
   "cell_type": "code",
   "execution_count": null,
   "id": "ec01c89c-a20f-4c4e-9f12-d9afef8749dc",
   "metadata": {},
   "outputs": [],
   "source": []
  },
  {
   "cell_type": "markdown",
   "id": "1ad8b00b-27dd-4081-80c7-437e52e00860",
   "metadata": {},
   "source": [
    "# H. Переезд в опенспейс*\n",
    "\n",
    "Сотрудники компании работают в старом советском здании, состоящем из $n$ больших кабинетов, расположенных в один ряд, один за другим. В зале $i $ работает ровно $a_i$ сотрудников.\n",
    "\n",
    "HR-менеджеры компании выяснили, что сотрудникам грустно и одиноко в отдельных кабинетах и, чтобы им стало веселее, необходимо переоборудовать один из кабинетов в модный опенспейс и переселить всех сотрудников в него.\n",
    "\n",
    "Переезд сотрудника в другой кабинет сопровождается переносом его рабочего стола, что довольно тяжело и времязатратно. При переезде сотрудник перемещает свой стол по всем кабинетам от своего начального положения до кабинета с опенсейсом. Таким образом, количество переходов сотрудника определяется как модуль разности номеров исходного кабинета и кабинета с оборудованным опенспейсом. HR-менеджеры хотят сделать переезд как можно проще и выбрать такой кабинет для оборудования опенспейса, чтобы минимизировать суммарное количество переходов сотрудников (и их рабочих столов). Помогите им определить это количество переходов.\n",
    "\n",
    "## Формат ввода\n",
    "\n",
    "В первой строке ввода дано целое число $n$ — количество кабинетов в офисе $(1≤n≤2⋅10^5)$.\n",
    "\n",
    "В следующей строке через пробел перечислены $n$ целых чисел $a_i$​ — количество сотрудников в кабинете $i$ $(1≤a_i≤10^9)$.\n",
    "\n",
    "## Формат вывода\n",
    "\n",
    "Выведите одно число — минимальное суммарное количество переходов."
   ]
  },
  {
   "cell_type": "code",
   "execution_count": null,
   "id": "38dff5fc-47cd-4f8a-aaf0-521f3f672b2e",
   "metadata": {},
   "outputs": [],
   "source": [
    "'''\n",
    "Полное решение, сданное в конест.\n",
    "\n",
    "Вердикт: OK!\n",
    "\n",
    "'''\n",
    "\n",
    "def prefix_sums(n, nums):\n",
    "    p_sums = [0] * (n + 1)\n",
    "    for i in range(1, n+1):\n",
    "        p_sums[i] = nums[i-1] + p_sums[i-1]\n",
    "    return p_sums\n",
    "\n",
    "def prefix_sums_reverse(n, nums):\n",
    "    p_sums = [0] * (n + 1)\n",
    "    for i in range(1, n+1):\n",
    "        p_sums[i] = nums[n - i] + p_sums[i-1]\n",
    "    return p_sums\n",
    "\n",
    "def sum_transitions(n, nums):\n",
    "    p_sum = prefix_sums(n+1, prefix_sums(n, nums))\n",
    "    p_sum_rev = prefix_sums(n+1, prefix_sums_reverse(n, nums))\n",
    "    min_sum = p_sum[1] + p_sum_rev[n]\n",
    "    for i in range(2, n+1):\n",
    "        min_sum = min(min_sum, p_sum[i] + p_sum_rev[n - i + 1])\n",
    "    return min_sum\n",
    "\n",
    "if __name__ == '__main__':\n",
    "    n = int(input())\n",
    "    nums = list(map(int, input().split()))\n",
    "    print(sum_transitions(n, nums))"
   ]
  },
  {
   "cell_type": "code",
   "execution_count": 27,
   "id": "59773ac2-aa3c-4bdd-bc9c-963c11c06f8b",
   "metadata": {},
   "outputs": [],
   "source": [
    "def test_H(f):\n",
    "    '''\n",
    "    Функция тестирует решение задачи H\n",
    "    params:\n",
    "     - f: Тестируемая функция\n",
    "    '''\n",
    "    with open('./tests/tests2H.txt', 'r') as tests:\n",
    "        N = int(tests.readline().strip('\\n'))\n",
    "        for i in range(N):\n",
    "            n = int(tests.readline().strip('\\n'))\n",
    "            nums = list(map(int, tests.readline().strip('\\n').split()))\n",
    "            ans_true = int(tests.readline().strip('\\n'))\n",
    "            try:\n",
    "                ans = f(n, nums)\n",
    "            except:\n",
    "                print(f'Error at test {i+1}!\\nInput: {n=}, {nums=}')\n",
    "                raise\n",
    "            assert ans == ans_true, f'Wrong test {i+1}!\\nInput: {n=}, {nums=}\\nOutput: {ans}, correct: {ans_true}'\n",
    "        print(f'All {N} tests is OK!')"
   ]
  },
  {
   "cell_type": "code",
   "execution_count": 29,
   "id": "7e85c937-70be-4127-bda6-7bab6af7ff2b",
   "metadata": {},
   "outputs": [
    {
     "name": "stdout",
     "output_type": "stream",
     "text": [
      "All 7 tests is OK!\n"
     ]
    }
   ],
   "source": [
    "test_H(sum_transitions)"
   ]
  },
  {
   "cell_type": "code",
   "execution_count": 30,
   "id": "7f532ab9-bbf2-476b-967f-2dbe421b0b7f",
   "metadata": {},
   "outputs": [],
   "source": [
    "def slow_sum_transition(n, nums):\n",
    "    '''\n",
    "    Медленное решение (О(N^2)) для стресс-тестирвоания\n",
    "    '''\n",
    "    sum = 0\n",
    "    for i in range(1, n):\n",
    "        sum += nums[i] * i\n",
    "    for i in range(1, n):\n",
    "        temp = 0\n",
    "        for j in range(i+1, n):\n",
    "            temp += nums[j] * (j - i)\n",
    "        for j in range(i-1, -1, -1):\n",
    "            temp += nums[j] * (i - j)\n",
    "        sum = min(sum, temp)\n",
    "    return sum"
   ]
  },
  {
   "cell_type": "code",
   "execution_count": 31,
   "id": "5d9b30aa-6d46-427f-b448-5d676e2002a6",
   "metadata": {},
   "outputs": [
    {
     "name": "stdout",
     "output_type": "stream",
     "text": [
      "All 7 tests is OK!\n"
     ]
    }
   ],
   "source": [
    "test_H(slow_sum_transition)"
   ]
  },
  {
   "cell_type": "code",
   "execution_count": 32,
   "id": "690ef5f1-e9fc-47a5-a32f-aaf550e777cf",
   "metadata": {},
   "outputs": [],
   "source": [
    "from random import randint\n",
    "def generate():\n",
    "    '''\n",
    "    Генерация входных данных для задачи H\n",
    "    '''\n",
    "    N = randint(1, 1e2)\n",
    "    rooms = [randint(1, 1e2) for _ in range(N)]\n",
    "    return N, rooms"
   ]
  },
  {
   "cell_type": "code",
   "execution_count": 33,
   "id": "81aac1e6-c3f7-46e6-b7ce-7144331f11b1",
   "metadata": {},
   "outputs": [],
   "source": [
    "def stress_test(f):\n",
    "    '''\n",
    "    Стресс-тестирвоание оптимального решения на медленном\n",
    "    '''\n",
    "    for i in range(1000):\n",
    "        n, nums = generate()\n",
    "        ans = f(n, nums)\n",
    "        slow_ans = slow_sum_transition(n, nums)\n",
    "        assert ans == slow_ans, f'Wrong test {i+1}.\\nInput: {n=}, {nums=}.\\n{ans=}, {slow_ans=}'\n",
    "    print('All OK')"
   ]
  },
  {
   "cell_type": "code",
   "execution_count": 34,
   "id": "6fd05d9a-5ec7-45e9-b903-890f31c22b6f",
   "metadata": {},
   "outputs": [
    {
     "name": "stdout",
     "output_type": "stream",
     "text": [
      "All OK\n"
     ]
    }
   ],
   "source": [
    "stress_test(sum_transitions)"
   ]
  },
  {
   "cell_type": "code",
   "execution_count": null,
   "id": "65184633-f586-4643-a303-37180b1a01bc",
   "metadata": {},
   "outputs": [],
   "source": []
  },
  {
   "cell_type": "code",
   "execution_count": null,
   "id": "cc36912b-bb34-4918-9b48-417e2679e181",
   "metadata": {},
   "outputs": [],
   "source": []
  },
  {
   "cell_type": "markdown",
   "id": "d41f32b1-8791-4589-855c-e4ef9e857482",
   "metadata": {},
   "source": [
    "# I. Изучение алгоритмов*\n",
    "\n",
    "Вася готовится к алгоритмической секции собеседования и выяснил, что ему нужно изучить nn алгоритмов. Вася поверхностно изучил каждый из них, и охарактеризовал $i$-й алгоритм двумя параметрами $a_i$​ (интересность) и $b_i​$ (полезность).\n",
    "\n",
    "Вася работает сисадмином на научной базе в Антарктиде и никуда не торопится. Он будет изучать по одному алгоритму в день. Если ему скучно, то он будет изучать самый интересный алгоритм (с максимальным $a_i$​) из всех еще не изученных. А если у него воодушевленное настроение, то выберет для изучения самый полезный алгоритм из еще не изученных (с максимальным $b_i$​).\n",
    "\n",
    "Если есть несколько алгоритмов с максимальным интересующим Васю параметром, то он выберет тот, у которого второй параметр наибольший. Если и вторые параметры равны, то Вася выберет алгоритм с меньшим порядковым номером.\n",
    "\n",
    "Вася — предсказуемый человек (и гордится этим), поэтому он знает свое настроение на $n$ дней вперед. Определите, в каком порядке он изучит алгоритмы.\n",
    "\n",
    "## Формат ввода\n",
    "\n",
    "В первой строке ввода дано целое число $n$ — количество алгоритмов $(1≤n≤10^5)$.\n",
    "\n",
    "Во второй строке через пробел перечислены $n$ целых чисел $a_i$​ — значения интересности алгоритмов $(1≤a_i≤10^9)$. В третьей строке в том же формате даны целые числа $b_i​$ — значения полезности алгоритмов $(1≤b_i≤10^9)$.\n",
    "\n",
    "В последней строке через пробел перечислены nn целых чисел $p_i​$ — индикаторы настроения Васи в ближайшие $n$ дней. Если $p_i=1$, Вася выберет алгоритм с максимальной полезностью (максимальным $b_i$​), иначе $p_i=0$ и Вася выберет самый интересный из доступных алгоритмов (с максимальным $a_i$​).\n",
    "\n",
    "## Формат вывода\n",
    "\n",
    "Выведите $n$ различных целых чисел от $1$ до $n$, разделенных пробелами; $i$-е число должно быть равно номеру алгоритма, который Вася будет изучать в $i$-й день."
   ]
  },
  {
   "cell_type": "code",
   "execution_count": null,
   "id": "95935551-ddb0-4a31-8e69-15794c9fb33b",
   "metadata": {},
   "outputs": [],
   "source": [
    "'''\n",
    "Полное решение, сданное в конест.\n",
    "\n",
    "Вердикт: OK!\n",
    "\n",
    "'''\n",
    "\n",
    "#@timeit\n",
    "def algorithms(n, a, b, p):\n",
    "    d = {}\n",
    "    i_a_b = [(i+1, a, b) for i, (a, b) in enumerate(zip(a, b))]\n",
    "    a_sort = sorted(i_a_b, key=lambda x: (x[1], x[2]), reverse=True)\n",
    "    b_sort = sorted(i_a_b, key=lambda x: (x[2], x[1]), reverse=True)\n",
    "    left, right = 0, 0\n",
    "    ans = [0] * n\n",
    "    for i in range(n):\n",
    "        if p[i] == 0:\n",
    "            while left < n and d.get(a_sort[left][0], 0) != 0:\n",
    "                left += 1\n",
    "            ans[i] = a_sort[left][0]\n",
    "            d[a_sort[left][0]] = 1\n",
    "            left += 1\n",
    "        else:\n",
    "            while right < n and d.get(b_sort[right][0], 0) != 0:\n",
    "                right += 1\n",
    "            ans[i] = b_sort[right][0]\n",
    "            d[b_sort[right][0]] = 1\n",
    "            right += 1\n",
    "    return ans\n",
    "\n",
    "if __name__ == '__main__':\n",
    "    n = int(input())\n",
    "    a = list(map(int, input().split()))\n",
    "    b = list(map(int, input().split()))\n",
    "    p = list(map(int, input().split()))\n",
    "    print(*algorithms(n, a, b, p))"
   ]
  },
  {
   "cell_type": "code",
   "execution_count": 35,
   "id": "1b938d72-f0b4-4009-8210-045e26c3e19c",
   "metadata": {},
   "outputs": [],
   "source": [
    "def test_I(f):\n",
    "    '''\n",
    "    Функция тестирует решение задачи I\n",
    "    params:\n",
    "     - f: Тестируемая функция\n",
    "    '''\n",
    "    with open('./tests/tests2I.txt', 'r') as tests:\n",
    "        N = int(tests.readline().strip('\\n'))\n",
    "        for i in range(N):\n",
    "            n = int(tests.readline().strip('\\n'))\n",
    "            a = list(map(int, tests.readline().strip('\\n').split()))\n",
    "            b = list(map(int, tests.readline().strip('\\n').split()))\n",
    "            p = list(map(int, tests.readline().strip('\\n').split()))\n",
    "            ans_true = list(map(int, tests.readline().strip('\\n').split()))\n",
    "            try:\n",
    "                ans = f(n, a, b, p)\n",
    "            except:\n",
    "                print(f'Error at test {i+1}!\\nInput: {n=}, {a=}, {b=}, {p=}')\n",
    "                raise\n",
    "            assert ans == ans_true, f'Wrong test {i+1}!\\nInput: {n=}, {a=}, {b=}, {p=}\\nOutput: {ans}, correct: {ans_true}'\n",
    "        print(f'All {N} tests is OK!')"
   ]
  },
  {
   "cell_type": "code",
   "execution_count": 42,
   "id": "ee01df72-7ff4-4e69-ae0d-d800fe1b7d93",
   "metadata": {},
   "outputs": [],
   "source": [
    "'''\n",
    "Декоратор для оценки времени работы функции. Выводит время работы, если оно больше 0.01 с.\n",
    "'''\n",
    "from functools import wraps\n",
    "import time\n",
    "def timeit(func):\n",
    "    @wraps(func)\n",
    "    def timeit_wrapper(*args, **kwargs):\n",
    "        start_time = time.perf_counter()\n",
    "        result = func(*args, **kwargs)\n",
    "        end_time = time.perf_counter()\n",
    "        total_time = end_time - start_time\n",
    "        if total_time > 0.01:\n",
    "            print(f'Function {func.__name__}(N={args[0]})Took {total_time:.4f} seconds')\n",
    "        return result\n",
    "    return timeit_wrapper"
   ]
  },
  {
   "cell_type": "code",
   "execution_count": 44,
   "id": "5bfe76bc-f61c-49fd-bbc2-6640fc84c449",
   "metadata": {},
   "outputs": [
    {
     "name": "stdout",
     "output_type": "stream",
     "text": [
      "All 23 tests is OK!\n"
     ]
    }
   ],
   "source": [
    "test_I(algorithms)"
   ]
  },
  {
   "cell_type": "code",
   "execution_count": 45,
   "id": "927e68b9-be5b-4799-9bc1-ad05e8a69363",
   "metadata": {},
   "outputs": [],
   "source": [
    "import random\n",
    "def generate():\n",
    "    '''\n",
    "    Генерация входных данных для задачи I\n",
    "    '''\n",
    "    N = 100000#random.randint(1, 1e5)\n",
    "    a = [random.randint(1, 1e9) for _ in range(N)]\n",
    "    b = [random.randint(1, 1e9) for _ in range(N)]\n",
    "    p = [random.randint(0, 1) for _ in range(N)]\n",
    "    return N, a, b, p"
   ]
  },
  {
   "cell_type": "code",
   "execution_count": 46,
   "id": "fc763e2d-fe39-4b9d-bc43-71d2e01dd012",
   "metadata": {},
   "outputs": [
    {
     "name": "stdout",
     "output_type": "stream",
     "text": [
      "Function algorithms(N=100000)Took 6.4394 seconds\n",
      "Function algorithms(N=100000)Took 0.3587 seconds\n",
      "Function algorithms(N=100000)Took 0.6991 seconds\n",
      "Function algorithms(N=100000)Took 0.7031 seconds\n",
      "Function algorithms(N=100000)Took 0.6825 seconds\n",
      "Function algorithms(N=100000)Took 0.7640 seconds\n",
      "Function algorithms(N=100000)Took 0.7985 seconds\n",
      "Function algorithms(N=100000)Took 0.7452 seconds\n",
      "Function algorithms(N=100000)Took 0.7397 seconds\n",
      "Function algorithms(N=100000)Took 0.6866 seconds\n"
     ]
    }
   ],
   "source": [
    "for i in range(10):\n",
    "    ans = algorithms(*generate())"
   ]
  },
  {
   "cell_type": "code",
   "execution_count": null,
   "id": "27271147-2139-4f80-83fa-b6b4268e1e77",
   "metadata": {},
   "outputs": [],
   "source": []
  },
  {
   "cell_type": "code",
   "execution_count": null,
   "id": "bae0c3d4-c56a-4897-86d5-edf2837ffd69",
   "metadata": {},
   "outputs": [],
   "source": []
  },
  {
   "cell_type": "markdown",
   "id": "e8788dca-1b6a-4304-9075-f0a491e618b9",
   "metadata": {},
   "source": [
    "# J. Исследование улик*\n",
    "\n",
    "Бенуа Бланк взялся за расследование загадочного преступления и теперь активно ищет улики, которые помогут ему выйти на настоящего преступника. Как любой уважающий себя детектив, Бенуа Бланк имеет собственный метод поиска истины. Как он любит повторять, его философия заключается в том, что можно просто быть пассивным наблюдателем, и жизнь сама выведет тебя к правде.\n",
    "\n",
    "Всего Бенуа Бланк собрал $n$ улик и расположил перед собой в ряд, $i$-я улика в ряду имеет весомость, равную $a_i$​. Детектив считает, что наиболее интересными могут оказаться наименее весомые улики, и разработал следующий процесс их исследования.\n",
    "\n",
    "Сперва Бланк выбирает какую-то улику с номером $x$ и начинает перебирать улики слева от нее. Пока слева от текущей улики находится улика меньшей или равной весомости, Бенуа Бланк перемещается к ней. При этом, эксцентричному детективу быстро надоедает однообразие, поэтому он не будет делать больше $k$ перемещений между уликами с одинаковой весомостью.\n",
    "\n",
    "Например, если весомости улик равны $⟨3,3,3,4,4,5⟩$, $k=2$, и детектив начинает с **последней** улики, он совершит четыре перемещения влево, после чего остановится.\n",
    "\n",
    "Улики требуют тщательного изучения, поэтому Бенуа Бланк повторяет процесс $m$ раз, в $i$-й раз начиная с улики с номером $x_i$​. Помогите ему побыстрее определить, на какой улике он остановится в каждом из случаев.\n",
    "\n",
    "## Формат ввода\n",
    "\n",
    "В первой строке дано целое число $n$ — количество улик $(1⩽n⩽4⋅10^5)$. Во второй строке через пробел перечислены $n$ целых чисел $a_i$​ — значения весомости улик в порядке их следования в ряду $(1⩽a_i⩽109)$.\n",
    "\n",
    "В следующей строке через пробел даны два целых числа $m$ и $k$ — количество экспериментов и максимальное число перемещений между уликами равной весомости $(1⩽m⩽4⋅10^5; 0⩽k⩽n)$.\n",
    "\n",
    "В последней строке через пробел перечислены $m$ целых чисел $x_i$​ — номера улик, с которых Бенуа Бланк будет начинать исследование $(1⩽x_i⩽n)$.\n",
    "\n",
    "## Формат вывода\n",
    "\n",
    "Выведите через пробел $m$ целых чисел от $1$ до $n$ — номера улик, на которых остановится детектив в каждом из экспериментов."
   ]
  },
  {
   "cell_type": "code",
   "execution_count": null,
   "id": "ec5a0d64-ae66-4979-a32e-ed5e13e6fec5",
   "metadata": {},
   "outputs": [],
   "source": [
    "'''\n",
    "Полное решение, сданное в конест.\n",
    "\n",
    "Вердикт: OK!\n",
    "\n",
    "'''\n",
    "\n",
    "#@timeit\n",
    "def clues_research_2(n, m, k, clues, starts):\n",
    "    pre_ans = [1] * n\n",
    "    ans = [1] * m\n",
    "    pairs = [1] * n\n",
    "    stop_clue = 1\n",
    "    left_pair = 1\n",
    "    pair_count = 0\n",
    "    for i in range(1, n):\n",
    "        if clues[i] < clues[i-1]:\n",
    "            stop_clue = i + 1\n",
    "        if clues[i] == clues[i-1]:\n",
    "            pair_count += 1\n",
    "            pairs[pair_count - 1] = i + 1\n",
    "            if pair_count >= k:\n",
    "                left_pair = pairs[pair_count - k - 1]\n",
    "        pre_ans[i] = max(stop_clue, left_pair)\n",
    "    for i in range(m):\n",
    "        ans[i] = pre_ans[starts[i]-1]\n",
    "    return ans\n",
    "\n",
    "if __name__ == '__main__':\n",
    "    n = int(input())\n",
    "    clues = list(map(int, input().split()))\n",
    "    m, k = map(int, input().split())\n",
    "    starts = list(map(int, input().split()))\n",
    "    print(*clues_research_2(n, m, k, clues, starts))"
   ]
  },
  {
   "cell_type": "code",
   "execution_count": 53,
   "id": "fa0d895f-67d8-4c83-8114-27b2baea029a",
   "metadata": {},
   "outputs": [],
   "source": [
    "def test_J(f):\n",
    "    '''\n",
    "    Функция тестирует решение задачи J\n",
    "    params:\n",
    "     - f: Тестируемая функция\n",
    "    '''\n",
    "    with open('./tests/tests2J.txt', 'r') as tests:\n",
    "        N = int(tests.readline().strip('\\n'))\n",
    "        for i in range(N):\n",
    "            n = int(tests.readline().strip('\\n'))\n",
    "            clues = list(map(int, tests.readline().strip('\\n').split()))\n",
    "            m, k = map(int, tests.readline().strip('\\n').split())\n",
    "            starts = list(map(int, tests.readline().strip('\\n').split()))\n",
    "            ans_true = list(map(int, tests.readline().strip('\\n').split()))\n",
    "            try:\n",
    "                ans = f(n, m, k, clues, starts)\n",
    "            except:\n",
    "                print(f'Error at test {i+1}!\\nInput: {n=}, {clues=}, {m=}, {k=}, {starts=}')\n",
    "                raise\n",
    "            assert ans == ans_true, f'Wrong test {i+1}!\\nInput: {n=}, {clues=}, {m=}, {k=}, {starts=}\\nOutput: {ans}, correct: {ans_true}'\n",
    "        print(f'All {N} tests is OK!')"
   ]
  },
  {
   "cell_type": "code",
   "execution_count": 48,
   "id": "171c27e4-caf2-4cdc-8440-3e178bc0633e",
   "metadata": {},
   "outputs": [],
   "source": [
    "'''\n",
    "Декоратор для оценки времени работы функции. Выводит время работы, если оно больше 0.01 с.\n",
    "'''\n",
    "\n",
    "from functools import wraps\n",
    "import time\n",
    "def timeit(func):\n",
    "    @wraps(func)\n",
    "    def timeit_wrapper(*args, **kwargs):\n",
    "        start_time = time.perf_counter()\n",
    "        result = func(*args, **kwargs)\n",
    "        end_time = time.perf_counter()\n",
    "        total_time = end_time - start_time\n",
    "        if total_time > 0.01:\n",
    "            print(f'Function {func.__name__}(n={args[0]}, m={args[1]})Took {total_time:.4f} seconds')\n",
    "        return result\n",
    "    return timeit_wrapper"
   ]
  },
  {
   "cell_type": "code",
   "execution_count": 50,
   "id": "423ae52c-470f-45d4-999e-5ec67aebc31c",
   "metadata": {},
   "outputs": [],
   "source": [
    "@timeit\n",
    "def clues_research(n, m, k, clues, starts):\n",
    "    '''\n",
    "    Медленное решение для стресс-тестирвоания\n",
    "    '''\n",
    "    ans = [0] * m\n",
    "    for i in range(m):\n",
    "        left = starts[i]\n",
    "        same_count = 0\n",
    "        while left > 1 and clues[left - 1 - 1] <= clues[left - 1]:\n",
    "            if clues[left - 1 - 1] == clues[left - 1]:\n",
    "                if same_count >= k:\n",
    "                    break\n",
    "                same_count += 1\n",
    "            left -= 1\n",
    "        ans[i] = left\n",
    "    return ans"
   ]
  },
  {
   "cell_type": "code",
   "execution_count": 54,
   "id": "6850fbe0-446b-4487-bc3e-b4fe06dd7e0e",
   "metadata": {},
   "outputs": [
    {
     "name": "stdout",
     "output_type": "stream",
     "text": [
      "All 11 tests is OK!\n"
     ]
    }
   ],
   "source": [
    "test_J(clues_research_2)"
   ]
  },
  {
   "cell_type": "code",
   "execution_count": 55,
   "id": "783ba61c-3d16-4f11-a592-16a58679dcf3",
   "metadata": {},
   "outputs": [
    {
     "name": "stdout",
     "output_type": "stream",
     "text": [
      "All 11 tests is OK!\n"
     ]
    }
   ],
   "source": [
    "test_J(clues_research)"
   ]
  },
  {
   "cell_type": "code",
   "execution_count": 57,
   "id": "6190c5d0-8355-4e3b-a561-e84fb2e524ba",
   "metadata": {},
   "outputs": [],
   "source": [
    "import random\n",
    "def generate():\n",
    "    '''\n",
    "    Генерация входных данных для задачи J\n",
    "    '''\n",
    "    n = random.randint(1, 4e5)\n",
    "    clues = [random.randint(1, 1e9) for _ in range(n)]\n",
    "    m = random.randint(1, 4e5)\n",
    "    k = random.randint(0, n)\n",
    "    starts = [random.randint(1, n) for _ in range(m)]\n",
    "    return n, m, k, clues, starts"
   ]
  },
  {
   "cell_type": "code",
   "execution_count": 58,
   "id": "55f4f2a1-244a-49e9-b9b6-b439760b8282",
   "metadata": {},
   "outputs": [
    {
     "name": "stdout",
     "output_type": "stream",
     "text": [
      "Function clues_research(n=315869, m=310449)Took 0.2517 seconds\n",
      "Function clues_research(n=356629, m=330210)Took 0.5062 seconds\n",
      "Function clues_research(n=52281, m=277165)Took 0.3956 seconds\n",
      "Function clues_research(n=227267, m=388765)Took 0.6573 seconds\n",
      "Function clues_research(n=304913, m=372590)Took 0.5886 seconds\n",
      "Function clues_research(n=84344, m=399970)Took 0.6671 seconds\n",
      "Function clues_research(n=24642, m=294641)Took 0.4573 seconds\n",
      "Function clues_research(n=95312, m=81864)Took 0.1175 seconds\n",
      "Function clues_research(n=317361, m=220487)Took 0.3537 seconds\n",
      "Function clues_research(n=52855, m=10663)Took 0.0166 seconds\n"
     ]
    }
   ],
   "source": [
    "'''\n",
    "Стресс-тестирвоание оптимального решения на медленном\n",
    "'''\n",
    "\n",
    "for i in range(10):\n",
    "    n, m, k, clues, starts = generate()\n",
    "    ans1 = clues_research(n, m, k, clues, starts)\n",
    "    ans2 = clues_research_2(n, m, k, clues, starts)\n",
    "    assert ans1 == ans2, f'Wrong! {n=}, {m=}, {k=}, {clues=}, {starts}'"
   ]
  },
  {
   "cell_type": "code",
   "execution_count": null,
   "id": "925afbd1-71e6-4f91-8ba1-fe3a13565412",
   "metadata": {},
   "outputs": [],
   "source": []
  }
 ],
 "metadata": {
  "kernelspec": {
   "display_name": "Python 3 (ipykernel)",
   "language": "python",
   "name": "python3"
  },
  "language_info": {
   "codemirror_mode": {
    "name": "ipython",
    "version": 3
   },
   "file_extension": ".py",
   "mimetype": "text/x-python",
   "name": "python",
   "nbconvert_exporter": "python",
   "pygments_lexer": "ipython3",
   "version": "3.11.6"
  }
 },
 "nbformat": 4,
 "nbformat_minor": 5
}
